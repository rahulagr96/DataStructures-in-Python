{
 "cells": [
  {
   "cell_type": "code",
   "execution_count": 1,
   "metadata": {},
   "outputs": [],
   "source": [
    "from collections import deque\n",
    "class Queue():\n",
    "    def __init__(self):\n",
    "        self.queue = deque()\n",
    "    def isempty(self):\n",
    "        return len(self.queue) == 0\n",
    "    def enqueue(self, item):\n",
    "        self.queue.append(item)\n",
    "    def dequeue(self):\n",
    "        if self.isempty():\n",
    "            return (\"Queue is empty\")\n",
    "        print(\"Item dequeued: \",self.queue.popleft())\n",
    "    def que_front(self):\n",
    "        if self.isempty():\n",
    "            return (\"Queue is empty\")\n",
    "        return self.queue[0]\n",
    "    def que_rear(self):\n",
    "        if self.isempty():\n",
    "            return (\"Queue is empty\")\n",
    "        return self.queue[len(self.queue)-1]\n",
    "    def __str__(self):\n",
    "        return str(self.queue)\n",
    "        "
   ]
  },
  {
   "cell_type": "code",
   "execution_count": 30,
   "metadata": {},
   "outputs": [
    {
     "name": "stdout",
     "output_type": "stream",
     "text": [
      "deque([5, 10, 15])\n",
      "Item dequeued:  5\n",
      "10\n",
      "15\n",
      "Item dequeued:  10\n",
      "Item dequeued:  15\n",
      "Queue is empty\n"
     ]
    }
   ],
   "source": [
    "que = Queue()\n",
    "que.enqueue(5)\n",
    "que.enqueue(10)\n",
    "que.enqueue(15)\n",
    "print(que)\n",
    "que.dequeue()\n",
    "print(que.que_front())\n",
    "print(que.que_rear())\n",
    "que.dequeue()\n",
    "que.dequeue()\n",
    "print(que.que_front())"
   ]
  },
  {
   "cell_type": "code",
   "execution_count": null,
   "metadata": {},
   "outputs": [],
   "source": [
    "class Solution:\n",
    "    def rotate(self, nums, k) -> None:\n",
    "        n = len(nums)\n",
    "        k %= n\n",
    "        \n",
    "        start = count = 0\n",
    "        while count < n:\n",
    "            current, prev = start, nums[start]\n",
    "            while True:\n",
    "                next_idx = (current + k) % n\n",
    "                nums[next_idx], prev = prev, nums[next_idx]\n",
    "                current = next_idx\n",
    "                count += 1\n",
    "                \n",
    "                if start == current:\n",
    "                    break\n",
    "            start += 1"
   ]
  }
 ],
 "metadata": {
  "interpreter": {
   "hash": "b3ba2566441a7c06988d0923437866b63cedc61552a5af99d1f4fb67d367b25f"
  },
  "kernelspec": {
   "display_name": "Python 3.7.6 64-bit ('base': conda)",
   "language": "python",
   "name": "python3"
  },
  "language_info": {
   "codemirror_mode": {
    "name": "ipython",
    "version": 3
   },
   "file_extension": ".py",
   "mimetype": "text/x-python",
   "name": "python",
   "nbconvert_exporter": "python",
   "pygments_lexer": "ipython3",
   "version": "3.7.6"
  },
  "orig_nbformat": 4
 },
 "nbformat": 4,
 "nbformat_minor": 2
}
