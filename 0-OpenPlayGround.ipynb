{
 "cells": [
  {
   "cell_type": "code",
   "execution_count": 13,
   "metadata": {},
   "outputs": [
    {
     "name": "stdout",
     "output_type": "stream",
     "text": [
      "3\n"
     ]
    }
   ],
   "source": [
    "def lengthOfLongestSubstring(word):\n",
    "    d = {}\n",
    "    start = 0\n",
    "    end = 0\n",
    "    max_len = 0\n",
    "    n = len(word)\n",
    "    while end<n:\n",
    "        if(word[end] in d and d[word[end]] >= start):\n",
    "           start = d[word[end]] + 1\n",
    "        max_len = max(max_len, end-start+1)\n",
    "        d[word[end]] = end\n",
    "        end += 1\n",
    "    return max_len\n",
    "\n",
    "print(lengthOfLongestSubstring(\"pwwkew\"))"
   ]
  },
  {
   "cell_type": "code",
   "execution_count": 31,
   "metadata": {},
   "outputs": [
    {
     "name": "stdout",
     "output_type": "stream",
     "text": [
      "[1, 2, 3, 4, 5, 6, 7, 8, 9, 10, 11, 12, 13, 14]\n",
      "2\n"
     ]
    }
   ],
   "source": [
    "x=14\n",
    "arr = [c for c in range(1,x+1)]\n",
    "start = 0\n",
    "end = len(arr)\n",
    "mid = 0\n",
    "print(arr)\n",
    "while(start<end):\n",
    "    mid=start + (end-start)//2\n",
    "    #print(mid)\n",
    "    if((arr[mid]*arr[mid]) > x):\n",
    "        end = mid - 1\n",
    "    elif((arr[mid]*arr[mid]) < x):\n",
    "        start = mid + 1\n",
    "    else: #(arr[mid]*arr[mid] == target)\n",
    "        print(mid+1)\n",
    "        break\n",
    "print(end)"
   ]
  },
  {
   "cell_type": "code",
   "execution_count": 35,
   "metadata": {},
   "outputs": [
    {
     "name": "stdout",
     "output_type": "stream",
     "text": [
      "2\n"
     ]
    }
   ],
   "source": [
    "def mySqrt(x: int) -> int:\n",
    "        if x<2:\n",
    "            return x\n",
    "        start = 2\n",
    "        end = x//2\n",
    "        while(start<=end):\n",
    "            mid=start + (end-start)//2\n",
    "            if((mid*mid) > x):\n",
    "                end = mid - 1\n",
    "            elif (mid*mid) < x:\n",
    "                start = mid + 1\n",
    "            else:\n",
    "                return mid\n",
    "        return end\n",
    "\n",
    "print(mySqrt(6))"
   ]
  },
  {
   "cell_type": "markdown",
   "metadata": {},
   "source": [
    "# Implementing queue using stack\n",
    "[https://leetcode.com/problems/implement-queue-using-stacks/](https://leetcode.com/problems/implement-queue-using-stacks)"
   ]
  },
  {
   "cell_type": "code",
   "execution_count": 19,
   "metadata": {},
   "outputs": [
    {
     "name": "stdout",
     "output_type": "stream",
     "text": [
      "[3, 4, 5]\n",
      "[4, 5]\n",
      "4\n",
      "False\n",
      "True\n"
     ]
    }
   ],
   "source": [
    "class MyQ():\n",
    "    def __init__(self):\n",
    "        self.que = []\n",
    "    \n",
    "    def enque(self,item):\n",
    "        self.que.append(item)\n",
    "\n",
    "    def deque(self):\n",
    "        if len(self.que)>0:\n",
    "            return self.que.pop(0)\n",
    "        else:\n",
    "            print(\"Can not deque as it is empty\")\n",
    "            return\n",
    "    \n",
    "    def peek(self):\n",
    "        if len(self.que)>0:\n",
    "            return self.que[0]\n",
    "        \n",
    "    def empty(self):\n",
    "        if len(self.que)>0:\n",
    "            return False\n",
    "        return True\n",
    "\n",
    "    def __str__(self):\n",
    "        if len(self.que)>0:\n",
    "            return str(self.que)\n",
    "        return \"Queue empty\"\n",
    "\n",
    "q = MyQ()\n",
    "q.enque(3)\n",
    "q.enque(4)\n",
    "q.enque(5)\n",
    "print(q)\n",
    "q.deque()\n",
    "print(q)\n",
    "print(q.peek())\n",
    "print(q.empty())\n",
    "q.deque()\n",
    "q.deque()\n",
    "print(q.empty())"
   ]
  },
  {
   "cell_type": "code",
   "execution_count": 5,
   "metadata": {},
   "outputs": [
    {
     "name": "stdout",
     "output_type": "stream",
     "text": [
      "1\n"
     ]
    }
   ],
   "source": [
    "from collections import defaultdict\n",
    "\n",
    "d = defaultdict(list)\n",
    "d[1].append(1)\n",
    "for i in d:\n",
    "    print(i)"
   ]
  },
  {
   "cell_type": "code",
   "execution_count": 1,
   "metadata": {},
   "outputs": [
    {
     "name": "stdout",
     "output_type": "stream",
     "text": [
      "1\n",
      "1\n",
      "2\n",
      "3\n",
      "5\n",
      "6\n",
      "6\n",
      "7\n"
     ]
    },
    {
     "data": {
      "text/plain": [
       "{1, 2, 3, 5, 6, 7}"
      ]
     },
     "execution_count": 1,
     "metadata": {},
     "output_type": "execute_result"
    }
   ],
   "source": [
    "hash = set()\n",
    "\n",
    "arr = [1,1,2,3,5,6,6,7]\n",
    "for i in arr:\n",
    "    print(i)\n",
    "    hash.add(i)\n",
    "\n",
    "hash"
   ]
  },
  {
   "cell_type": "code",
   "execution_count": 1,
   "metadata": {},
   "outputs": [
    {
     "data": {
      "text/plain": [
       "[2]"
      ]
     },
     "execution_count": 1,
     "metadata": {},
     "output_type": "execute_result"
    }
   ],
   "source": [
    "q = []\n",
    "q.append(1)\n",
    "q.append(2)\n",
    "del q[0]\n",
    "q"
   ]
  },
  {
   "cell_type": "code",
   "execution_count": null,
   "metadata": {},
   "outputs": [],
   "source": []
  }
 ],
 "metadata": {
  "interpreter": {
   "hash": "b3ba2566441a7c06988d0923437866b63cedc61552a5af99d1f4fb67d367b25f"
  },
  "kernelspec": {
   "display_name": "Python 3.7.6 64-bit ('base': conda)",
   "language": "python",
   "name": "python3"
  },
  "language_info": {
   "codemirror_mode": {
    "name": "ipython",
    "version": 3
   },
   "file_extension": ".py",
   "mimetype": "text/x-python",
   "name": "python",
   "nbconvert_exporter": "python",
   "pygments_lexer": "ipython3",
   "version": "3.7.11"
  },
  "orig_nbformat": 4
 },
 "nbformat": 4,
 "nbformat_minor": 2
}
