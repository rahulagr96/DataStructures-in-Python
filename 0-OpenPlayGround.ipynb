{
 "cells": [
  {
   "cell_type": "code",
   "execution_count": 13,
   "metadata": {},
   "outputs": [
    {
     "name": "stdout",
     "output_type": "stream",
     "text": [
      "3\n"
     ]
    }
   ],
   "source": [
    "def lengthOfLongestSubstring(word):\n",
    "    d = {}\n",
    "    start = 0\n",
    "    end = 0\n",
    "    max_len = 0\n",
    "    n = len(word)\n",
    "    while end<n:\n",
    "        if(word[end] in d and d[word[end]] >= start):\n",
    "           start = d[word[end]] + 1\n",
    "        max_len = max(max_len, end-start+1)\n",
    "        d[word[end]] = end\n",
    "        end += 1\n",
    "    return max_len\n",
    "\n",
    "print(lengthOfLongestSubstring(\"pwwkew\"))"
   ]
  },
  {
   "cell_type": "code",
   "execution_count": 31,
   "metadata": {},
   "outputs": [
    {
     "name": "stdout",
     "output_type": "stream",
     "text": [
      "[1, 2, 3, 4, 5, 6, 7, 8, 9, 10, 11, 12, 13, 14]\n",
      "2\n"
     ]
    }
   ],
   "source": [
    "x=14\n",
    "arr = [c for c in range(1,x+1)]\n",
    "start = 0\n",
    "end = len(arr)\n",
    "mid = 0\n",
    "print(arr)\n",
    "while(start<end):\n",
    "    mid=start + (end-start)//2\n",
    "    #print(mid)\n",
    "    if((arr[mid]*arr[mid]) > x):\n",
    "        end = mid - 1\n",
    "    elif((arr[mid]*arr[mid]) < x):\n",
    "        start = mid + 1\n",
    "    else: #(arr[mid]*arr[mid] == target)\n",
    "        print(mid+1)\n",
    "        break\n",
    "print(end)"
   ]
  },
  {
   "cell_type": "code",
   "execution_count": 35,
   "metadata": {},
   "outputs": [
    {
     "name": "stdout",
     "output_type": "stream",
     "text": [
      "2\n"
     ]
    }
   ],
   "source": [
    "def mySqrt(x: int) -> int:\n",
    "        if x<2:\n",
    "            return x\n",
    "        start = 2\n",
    "        end = x//2\n",
    "        while(start<=end):\n",
    "            mid=start + (end-start)//2\n",
    "            if((mid*mid) > x):\n",
    "                end = mid - 1\n",
    "            elif (mid*mid) < x:\n",
    "                start = mid + 1\n",
    "            else:\n",
    "                return mid\n",
    "        return end\n",
    "\n",
    "print(mySqrt(6))"
   ]
  },
  {
   "cell_type": "markdown",
   "metadata": {},
   "source": [
    "# Implementing queue using stack\n",
    "[https://leetcode.com/problems/implement-queue-using-stacks/](https://leetcode.com/problems/implement-queue-using-stacks)"
   ]
  },
  {
   "cell_type": "code",
   "execution_count": 19,
   "metadata": {},
   "outputs": [
    {
     "name": "stdout",
     "output_type": "stream",
     "text": [
      "[3, 4, 5]\n",
      "[4, 5]\n",
      "4\n",
      "False\n",
      "True\n"
     ]
    }
   ],
   "source": [
    "class MyQ():\n",
    "    def __init__(self):\n",
    "        self.que = []\n",
    "    \n",
    "    def enque(self,item):\n",
    "        self.que.append(item)\n",
    "\n",
    "    def deque(self):\n",
    "        if len(self.que)>0:\n",
    "            return self.que.pop(0)\n",
    "        else:\n",
    "            print(\"Can not deque as it is empty\")\n",
    "            return\n",
    "    \n",
    "    def peek(self):\n",
    "        if len(self.que)>0:\n",
    "            return self.que[0]\n",
    "        \n",
    "    def empty(self):\n",
    "        if len(self.que)>0:\n",
    "            return False\n",
    "        return True\n",
    "\n",
    "    def __str__(self):\n",
    "        if len(self.que)>0:\n",
    "            return str(self.que)\n",
    "        return \"Queue empty\"\n",
    "\n",
    "q = MyQ()\n",
    "q.enque(3)\n",
    "q.enque(4)\n",
    "q.enque(5)\n",
    "print(q)\n",
    "q.deque()\n",
    "print(q)\n",
    "print(q.peek())\n",
    "print(q.empty())\n",
    "q.deque()\n",
    "q.deque()\n",
    "print(q.empty())"
   ]
  },
  {
   "cell_type": "code",
   "execution_count": 5,
   "metadata": {},
   "outputs": [
    {
     "name": "stdout",
     "output_type": "stream",
     "text": [
      "1\n"
     ]
    }
   ],
   "source": [
    "from collections import defaultdict\n",
    "\n",
    "d = defaultdict(list)\n",
    "d[1].append(1)\n",
    "for i in d:\n",
    "    print(i)"
   ]
  },
  {
   "cell_type": "code",
   "execution_count": 1,
   "metadata": {},
   "outputs": [
    {
     "name": "stdout",
     "output_type": "stream",
     "text": [
      "1\n",
      "1\n",
      "2\n",
      "3\n",
      "5\n",
      "6\n",
      "6\n",
      "7\n"
     ]
    },
    {
     "data": {
      "text/plain": [
       "{1, 2, 3, 5, 6, 7}"
      ]
     },
     "execution_count": 1,
     "metadata": {},
     "output_type": "execute_result"
    }
   ],
   "source": [
    "hash = set()\n",
    "\n",
    "arr = [1,1,2,3,5,6,6,7]\n",
    "for i in arr:\n",
    "    print(i)\n",
    "    hash.add(i)\n",
    "\n",
    "hash"
   ]
  },
  {
   "cell_type": "code",
   "execution_count": 1,
   "metadata": {},
   "outputs": [
    {
     "data": {
      "text/plain": [
       "[2]"
      ]
     },
     "execution_count": 1,
     "metadata": {},
     "output_type": "execute_result"
    }
   ],
   "source": [
    "q = []\n",
    "q.append(1)\n",
    "q.append(2)\n",
    "del q[0]\n",
    "q"
   ]
  },
  {
   "cell_type": "code",
   "execution_count": 12,
   "metadata": {},
   "outputs": [
    {
     "name": "stdout",
     "output_type": "stream",
     "text": [
      "oooo 3\n"
     ]
    }
   ],
   "source": [
    "class Shape():\n",
    "    def __init__(self,edge):\n",
    "        self.edge = edge\n",
    "    \n",
    "    def printEdge(self):\n",
    "        print(\"Par\",self.edge)\n",
    "\n",
    "class Triangle(Shape):\n",
    "    def __init__(self):\n",
    "        super().__init__(3)\n",
    "        self.color = \"red\"\n",
    "    \n",
    "    def printEdge(self):\n",
    "        print(\"Calling parent\")\n",
    "        print(str(self.edge) + \" \" + self.color)\n",
    "        return super().printEdge()\n",
    "\n",
    "    def printEdge(self, val):\n",
    "        print(\"oooo\", val)\n",
    "\n",
    "t = Triangle()\n",
    "t.printEdge(3)"
   ]
  },
  {
   "cell_type": "code",
   "execution_count": 15,
   "metadata": {},
   "outputs": [
    {
     "name": "stdout",
     "output_type": "stream",
     "text": [
      "(0, 0)\n"
     ]
    }
   ],
   "source": [
    "class Solution:\n",
    "    def searchRange(self, nums, target):\n",
    "        start = 0\n",
    "        end = len(nums)-1\n",
    "        a = -1\n",
    "        b = -1\n",
    "        while(start<=end):\n",
    "                if a!=-1 and b!=-1:\n",
    "                    break\n",
    "                if(nums[start] == target):\n",
    "                    a = start\n",
    "                else:\n",
    "                    start += 1\n",
    "                if(nums[end] == target):\n",
    "                    b = end\n",
    "                else:\n",
    "                    end -= 1\n",
    "        \n",
    "        return (a,b)\n",
    "        \n",
    "sol = Solution()\n",
    "print(sol.searchRange([1],1))"
   ]
  },
  {
   "cell_type": "code",
   "execution_count": 19,
   "metadata": {},
   "outputs": [
    {
     "name": "stdout",
     "output_type": "stream",
     "text": [
      "[2, 0]\n"
     ]
    }
   ],
   "source": [
    "class Solution:\n",
    "    def searchRange(self, nums, target):\n",
    "        hasht = {}\n",
    "        for i in range(len(nums)):\n",
    "            diff = (target - nums[i])\n",
    "\n",
    "            if(diff not in hasht):\n",
    "                hasht[nums[i]] = i\n",
    "            else:\n",
    "                return [i, hasht[diff]]\n",
    "            \n",
    "        \n",
    "sol = Solution()\n",
    "print(sol.searchRange([-3,4,3,90], 0))"
   ]
  },
  {
   "cell_type": "code",
   "execution_count": 32,
   "metadata": {},
   "outputs": [
    {
     "name": "stdout",
     "output_type": "stream",
     "text": [
      "[['eat', 'tea', 'ate'], ['tan', 'nat'], ['bat']]\n",
      "<built-in method values of dict object at 0x000001FC799D2A98>\n"
     ]
    }
   ],
   "source": [
    "\n",
    "class Solution:\n",
    "    def groupAnagrams(self, arr):\n",
    "        res  = {}\n",
    "        for item in arr:\n",
    "            lis = list(item)\n",
    "            lis.sort()\n",
    "            if(str(lis) not in res):\n",
    "                res[str(lis)] = [item]\n",
    "            else:\n",
    "                val = res[str(lis)]\n",
    "                val.append(item)\n",
    "                res[str(lis)] = val\n",
    "        \n",
    "        rr = []\n",
    "        for i in res:\n",
    "            rr.append(res[i])\n",
    "        return rr\n",
    "        \n",
    "sol = Solution()\n",
    "print(sol.groupAnagrams([\"eat\",\"tea\",\"tan\",\"ate\",\"nat\",\"bat\"]))"
   ]
  },
  {
   "cell_type": "code",
   "execution_count": 1,
   "metadata": {},
   "outputs": [
    {
     "name": "stdout",
     "output_type": "stream",
     "text": [
      "BANC\n"
     ]
    }
   ],
   "source": [
    "from collections import Counter\n",
    "class Solution:\n",
    "    def minWindow(self, word: str, target: str) -> str:\n",
    "        if not word or not target:\n",
    "            return \"\"\n",
    "            \n",
    "        countT, window = {}, {}\n",
    "        for chr in target:\n",
    "            countT[chr] = 1 + countT.get(chr, 0)\n",
    "\n",
    "        have, need = 0, len(countT)\n",
    "        res, resLen = [-1,-1], float(\"infinity\")\n",
    "        l=0\n",
    "        for r in range(len(word)):\n",
    "            chr = word[r]\n",
    "            window[chr] = 1 + window.get(chr, 0)\n",
    "\n",
    "            if chr in countT and window[chr] == countT[chr]:\n",
    "                have += 1\n",
    "            \n",
    "            while have == need:\n",
    "                if ((r-l+1) < resLen): \n",
    "                    res = [l, r]\n",
    "                    resLen = (r - l + 1)\n",
    "                window[word[l]] -= 1\n",
    "                if word[l] in countT and window[word[l]]<countT[word[l]]:\n",
    "                    have -= 1\n",
    "                l+=1\n",
    "        l, r = res\n",
    "        return word[l:r+1]\n",
    "\n",
    "sol = Solution()\n",
    "print(sol.minWindow(\"ADOBECODEBANC\", \"ABC\"))"
   ]
  },
  {
   "cell_type": "code",
   "execution_count": 23,
   "metadata": {},
   "outputs": [
    {
     "name": "stdout",
     "output_type": "stream",
     "text": [
      "IPv4\n",
      "IPv4\n",
      "Neither\n",
      "Neither\n",
      "Neither\n",
      "IPv6\n",
      "IPv6\n",
      "Neither\n",
      "Neither\n"
     ]
    }
   ],
   "source": [
    "class Solution:\n",
    "    def validIPAddress(self, queryIP: str) -> str:\n",
    "        if queryIP.count('.') == 3:\n",
    "            return self.checkIPv4(queryIP)\n",
    "        elif queryIP.count(':') == 7:\n",
    "            return self.checkIPv6(queryIP)\n",
    "        else:\n",
    "            return \"Neither\"\n",
    "\n",
    "    def checkIPv4(self, queryIP: str) -> str:\n",
    "        arr = queryIP.split('.')\n",
    "        for x in arr:\n",
    "            if len(x)==0 or len(x)>3:\n",
    "                return \"Neither\"\n",
    "            if x[0]==\"0\" and len(x)!=1 or not x.isdigit() or int(x)>255:\n",
    "                return \"Neither\"\n",
    "        return \"IPv4\"\n",
    "    \n",
    "    def checkIPv6(self, queryIP: str) -> str:\n",
    "        arr = queryIP.split(':')\n",
    "        hexdigits = '0123456789abcdefABCDEF'\n",
    "        for x in arr:\n",
    "            if len(x)==0 or len(x)>4 or not all(c in hexdigits for c in x):\n",
    "                return \"Neither\"\n",
    "        return \"IPv6\"\n",
    "\n",
    "\n",
    "sol = Solution()\n",
    "arr = [\"192.168.1.1\", \"192.168.1.0\", \"192.168.01.1\", \"192.168.1.00\", \"192.168@1.1\", \"2001:0db8:85a3:0000:0000:8a2e:0370:7334\", \"2001:db8:85a3:0:0:8A2E:0370:7334\", \"2001:0db8:85a3::8A2E:037j:7334\", \"02001:0db8:85a3:0000:0000:8a2e:0370:7334\"]\n",
    "for item in arr:\n",
    "    print(sol.validIPAddress(item))"
   ]
  },
  {
   "cell_type": "code",
   "execution_count": 24,
   "metadata": {},
   "outputs": [
    {
     "name": "stdout",
     "output_type": "stream",
     "text": [
      "fl\n"
     ]
    }
   ],
   "source": [
    "# https://leetcode.com/problems/longest-common-prefix\n",
    "class Solution:\n",
    "    def longestCommonPrefix(self, strs) -> str:\n",
    "        if not strs: return \"\"\n",
    "        if len(strs) == 1: return strs[0]\n",
    "        \n",
    "        p = \"\"\n",
    "        for x, y in zip(min(strs), max(strs)):\n",
    "            if x == y: \n",
    "                p+=x\n",
    "            else: \n",
    "                break\n",
    "        return p\n",
    "\n",
    "sol = Solution()\n",
    "print(sol.longestCommonPrefix([\"flower\",\"flow\",\"flight\"]))"
   ]
  },
  {
   "cell_type": "code",
   "execution_count": 39,
   "metadata": {},
   "outputs": [
    {
     "name": "stdout",
     "output_type": "stream",
     "text": [
      "5\n",
      "[0, 1, 2, 3, 4]\n"
     ]
    }
   ],
   "source": [
    "# https://leetcode.com/problems/remove-duplicates-from-sorted-array/\n",
    "class Solution:\n",
    "    def removeDuplicates(self, nums) -> int:\n",
    "        i = 0\n",
    "        while i < len(nums)-1:\n",
    "            if nums[i] == nums[i+1]:\n",
    "                del nums[i]\n",
    "            else:\n",
    "                i += 1\n",
    "        return len(nums)\n",
    "\n",
    "sol = Solution()\n",
    "nums = [0,0,1,1,1,2,2,3,3,4]\n",
    "print(sol.removeDuplicates(nums)) \n",
    "print(nums)"
   ]
  },
  {
   "cell_type": "code",
   "execution_count": null,
   "metadata": {},
   "outputs": [],
   "source": [
    "print(\"yayy\")"
   ]
  }
 ],
 "metadata": {
  "kernelspec": {
   "display_name": "Python 3",
   "language": "python",
   "name": "python3"
  },
  "language_info": {
   "codemirror_mode": {
    "name": "ipython",
    "version": 3
   },
   "file_extension": ".py",
   "mimetype": "text/x-python",
   "name": "python",
   "nbconvert_exporter": "python",
   "pygments_lexer": "ipython3",
   "version": "3.10.5"
  },
  "orig_nbformat": 4,
  "vscode": {
   "interpreter": {
    "hash": "6eb1ca0e59ab85dc9eb8be3744d92e9e4e7eb514696998a8a0ffac57ba5d31d3"
   }
  }
 },
 "nbformat": 4,
 "nbformat_minor": 2
}
