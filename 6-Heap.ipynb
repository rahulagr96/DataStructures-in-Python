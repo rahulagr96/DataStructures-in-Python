{
 "cells": [
  {
   "cell_type": "code",
   "execution_count": 20,
   "metadata": {},
   "outputs": [
    {
     "name": "stdout",
     "output_type": "stream",
     "text": [
      "[1, 2, 3, 4, 5, 6]\n"
     ]
    }
   ],
   "source": [
    "# Heap Sort using Min Heap\n",
    "import heapq\n",
    "\n",
    "arrheap = [3,2,1,5,6,4]\n",
    "heapq.heapify(arrheap)\n",
    "\n",
    "res = []\n",
    "for i in range(len(arrheap)):\n",
    "    res.append(heapq.heappop(arrheap))\n",
    "\n",
    "print(res)"
   ]
  },
  {
   "cell_type": "code",
   "execution_count": 25,
   "metadata": {},
   "outputs": [
    {
     "name": "stdout",
     "output_type": "stream",
     "text": [
      "[6, 5, 4, 3, 2, 1]\n"
     ]
    }
   ],
   "source": [
    "# Heap Sort using Max Heap\n",
    "import heapq\n",
    "\n",
    "arr = [3,2,1,5,6,4]\n",
    "arr = [-x for x in arr]\n",
    "heapq.heapify(arr)\n",
    "res = []\n",
    "for i in range(len(arr)):\n",
    "    res.append(heapq.heappop(arr))\n",
    "\n",
    "print([-x for x in res])"
   ]
  },
  {
   "cell_type": "code",
   "execution_count": 28,
   "metadata": {},
   "outputs": [
    {
     "name": "stdout",
     "output_type": "stream",
     "text": [
      "[1, 2, 3]\n"
     ]
    }
   ],
   "source": [
    "# Top K Smallest Element\n",
    "import heapq\n",
    "k = 3\n",
    "arr = [3,2,1,5,6,4]\n",
    "\n",
    "heapq.heapify(arr)\n",
    "res = []\n",
    "while arr and k>0:\n",
    "    res.append(heapq.heappop(arr))\n",
    "    k -= 1\n",
    "print(res)"
   ]
  },
  {
   "cell_type": "code",
   "execution_count": 30,
   "metadata": {},
   "outputs": [
    {
     "name": "stdout",
     "output_type": "stream",
     "text": [
      "[6, 5, 4]\n"
     ]
    }
   ],
   "source": [
    "# Top K Largest Element\n",
    "import heapq\n",
    "k = 3\n",
    "arr = [3,2,1,5,6,4]\n",
    "arr = [-x for x in arr]\n",
    "heapq.heapify(arr)\n",
    "res = []\n",
    "while arr and k>0:\n",
    "    res.append(-1*(heapq.heappop(arr)))\n",
    "    k -= 1\n",
    "print(res)"
   ]
  },
  {
   "cell_type": "code",
   "execution_count": 35,
   "metadata": {},
   "outputs": [
    {
     "name": "stdout",
     "output_type": "stream",
     "text": [
      "[4]\n"
     ]
    }
   ],
   "source": [
    "# The Kth Largest element\n",
    "import heapq\n",
    "k = 3\n",
    "arr = [3,2,1,5,6,4]\n",
    "arr = [-x for x in arr]\n",
    "heapq.heapify(arr)\n",
    "res = []\n",
    "while arr and k>0:\n",
    "    if k==1:\n",
    "        res.append(-1*(heapq.heappop(arr)))\n",
    "    else:\n",
    "        heapq.heappop(arr)\n",
    "    k -= 1\n",
    "print(res)"
   ]
  },
  {
   "cell_type": "code",
   "execution_count": 36,
   "metadata": {},
   "outputs": [
    {
     "name": "stdout",
     "output_type": "stream",
     "text": [
      "[3]\n"
     ]
    }
   ],
   "source": [
    "# The Kth Smallest element\n",
    "import heapq\n",
    "k = 3\n",
    "arr = [3,2,1,5,6,4]\n",
    "heapq.heapify(arr)\n",
    "res = []\n",
    "while arr and k>0:\n",
    "    if k==1:\n",
    "        res.append(heapq.heappop(arr))\n",
    "    else:\n",
    "        heapq.heappop(arr)\n",
    "    k -= 1\n",
    "print(res)"
   ]
  },
  {
   "cell_type": "markdown",
   "metadata": {},
   "source": [
    "## Top k elements in an array"
   ]
  },
  {
   "cell_type": "code",
   "execution_count": 10,
   "metadata": {},
   "outputs": [
    {
     "name": "stdout",
     "output_type": "stream",
     "text": [
      "[4, 2, 1]\n"
     ]
    }
   ],
   "source": [
    "# top-k-frequent-elements\n",
    "import heapq\n",
    "from collections import Counter\n",
    "\n",
    "def topKFrequent(nums, k):\n",
    "    hm = Counter(nums)\n",
    "    return heapq.nlargest(k, hm.keys(), key=hm.get) \n",
    "\n",
    "print(topKFrequent([1,4,4,4,4,1,2,2,2,3],3))"
   ]
  },
  {
   "cell_type": "code",
   "execution_count": 11,
   "metadata": {},
   "outputs": [
    {
     "name": "stdout",
     "output_type": "stream",
     "text": [
      "[4, 2, 1]\n"
     ]
    }
   ],
   "source": [
    "# top-k-frequent-elements\n",
    "import heapq\n",
    "\n",
    "def topKFrequent(nums, k):\n",
    "    mydict = {}\n",
    "    for item in nums:\n",
    "        if item not in mydict:\n",
    "            mydict[item] = 1\n",
    "        else:    \n",
    "            mydict[item] += 1\n",
    "    return heapq.nlargest(k, mydict.keys(), key=mydict.get) \n",
    "\n",
    "print(topKFrequent([1,4,4,4,4,1,2,2,2,3],3))"
   ]
  },
  {
   "cell_type": "code",
   "execution_count": 12,
   "metadata": {},
   "outputs": [
    {
     "name": "stdout",
     "output_type": "stream",
     "text": [
      "[4, 2, 1]\n"
     ]
    }
   ],
   "source": [
    "# top-k-frequent-elements\n",
    "import heapq\n",
    "mydict = {}\n",
    "\n",
    "def getDictEle(item):\n",
    "    return mydict.get(item)\n",
    "\n",
    "def topKFrequent(nums, k):\n",
    "    for item in nums:\n",
    "        if item not in mydict:\n",
    "            mydict[item] = 1\n",
    "        else:    \n",
    "            mydict[item] += 1\n",
    "    return heapq.nlargest(k, mydict.keys(), key=getDictEle) \n",
    "\n",
    "print(topKFrequent([1,4,4,4,4,1,2,2,2,3],3))"
   ]
  },
  {
   "cell_type": "markdown",
   "metadata": {},
   "source": [
    "### Explanation"
   ]
  },
  {
   "cell_type": "code",
   "execution_count": 7,
   "metadata": {},
   "outputs": [
    {
     "name": "stdout",
     "output_type": "stream",
     "text": [
      "City3\n",
      "City5\n",
      "City1\n"
     ]
    }
   ],
   "source": [
    "# Example Python program that finds the largest n elements\n",
    "# from a Python iterable\n",
    "import heapq\n",
    "\n",
    "# Define a function that returns a comparison key for city objects\n",
    "def sortkey(city):\n",
    "    return city.population\n",
    "\n",
    "# Define a City class\n",
    "class City:\n",
    "    def __init__(self, id, name, population):\n",
    "        self.id = id\n",
    "        self.name = name\n",
    "        self.population = population\n",
    "\n",
    "    def __str__(self):\n",
    "        return self.name\n",
    "\n",
    "# Create instances of City class\n",
    "c1 = City(1, \"City1\", 1500)\n",
    "c2 = City(2, \"City2\", 1100)\n",
    "c3 = City(3, \"City3\", 1700)\n",
    "c4 = City(4, \"City4\", 1200)\n",
    "c5 = City(5, \"City5\", 1600)\n",
    "\n",
    "# Make a list of City instances\n",
    "cities = [c1, c2, c3, c4, c5]\n",
    "\n",
    "# Find three most populated cities\n",
    "mostPopulated = heapq.nlargest(3, cities, key=sortkey)\n",
    "\n",
    "# Print three most populated cities\n",
    "for city in mostPopulated:\n",
    "    print(city)"
   ]
  },
  {
   "cell_type": "code",
   "execution_count": null,
   "metadata": {},
   "outputs": [],
   "source": []
  }
 ],
 "metadata": {
  "interpreter": {
   "hash": "b3ba2566441a7c06988d0923437866b63cedc61552a5af99d1f4fb67d367b25f"
  },
  "kernelspec": {
   "display_name": "Python 3.7.6 64-bit ('base': conda)",
   "language": "python",
   "name": "python3"
  },
  "language_info": {
   "codemirror_mode": {
    "name": "ipython",
    "version": 3
   },
   "file_extension": ".py",
   "mimetype": "text/x-python",
   "name": "python",
   "nbconvert_exporter": "python",
   "pygments_lexer": "ipython3",
   "version": "3.7.6"
  },
  "orig_nbformat": 4
 },
 "nbformat": 4,
 "nbformat_minor": 2
}
