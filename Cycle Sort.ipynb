{
 "cells": [
  {
   "cell_type": "markdown",
   "metadata": {},
   "source": [
    "# Cycle Sort\n",
    "\n",
    "If numbers given in range 1 to N\n",
    "\n",
    "Worst Case -> n-1 swaps ==> Time Complexity: O(n)"
   ]
  },
  {
   "cell_type": "code",
   "execution_count": 13,
   "metadata": {},
   "outputs": [
    {
     "name": "stdout",
     "output_type": "stream",
     "text": [
      "[1, 2, 3, 4, 5]\n"
     ]
    }
   ],
   "source": [
    "# Algorithm\n",
    "def swap(arr, ind1, ind2):\n",
    "    temp = arr[ind2]\n",
    "    arr[ind2] = arr[ind1]\n",
    "    arr[ind1] = temp\n",
    "\n",
    "def cycleSort(arr):\n",
    "    i = 0\n",
    "    while i<len(arr):\n",
    "        correct = arr[i] - 1\n",
    "        if arr[i] != arr[correct]:\n",
    "            swap(arr, i, correct)\n",
    "        else:\n",
    "            i+=1\n",
    "    print(arr)\n",
    "    \n",
    "cycleSort([3,5,2,1,4])"
   ]
  },
  {
   "cell_type": "markdown",
   "metadata": {},
   "source": [
    "## Leetcode questions"
   ]
  },
  {
   "cell_type": "code",
   "execution_count": 21,
   "metadata": {},
   "outputs": [
    {
     "name": "stdout",
     "output_type": "stream",
     "text": [
      "3\n"
     ]
    }
   ],
   "source": [
    "## Missing Number\n",
    "def swap(arr, ind1, ind2):\n",
    "    temp = arr[ind2]\n",
    "    arr[ind2] = arr[ind1]\n",
    "    arr[ind1] = temp\n",
    "\n",
    "def cycleSort(arr):\n",
    "    i = 0\n",
    "    while i<len(arr):\n",
    "        correct = arr[i]\n",
    "        if arr[i]<len(arr) and arr[i] != arr[correct]:\n",
    "            swap(arr, i, correct)\n",
    "        else:\n",
    "            i+=1\n",
    "\n",
    "    for i, num in enumerate(arr):\n",
    "        if num != i:\n",
    "            print(i)\n",
    "    \n",
    "cycleSort([4,0,2,1])"
   ]
  },
  {
   "cell_type": "code",
   "execution_count": 32,
   "metadata": {},
   "outputs": [
    {
     "name": "stdout",
     "output_type": "stream",
     "text": [
      "5 6 \n",
      "2 \n"
     ]
    }
   ],
   "source": [
    "# https://leetcode.com/problems/find-all-numbers-disappeared-in-an-array/\n",
    "def swap(arr, ind1, ind2):\n",
    "    temp = arr[ind2]\n",
    "    arr[ind2] = arr[ind1]\n",
    "    arr[ind1] = temp\n",
    "\n",
    "def findDisappearedNumbers(arr):\n",
    "    i = 0\n",
    "    while i<len(arr):\n",
    "        correct = arr[i] - 1\n",
    "        if arr[i] != arr[correct]:\n",
    "            swap(arr, i, correct)\n",
    "        else:\n",
    "            i+=1\n",
    "    for i, num in enumerate(arr):\n",
    "        if num != i+1:\n",
    "            print(i+1,end=' ')\n",
    "    print()\n",
    "\n",
    "findDisappearedNumbers([4,3,2,7,8,2,3,1])\n",
    "findDisappearedNumbers([1,1])"
   ]
  },
  {
   "cell_type": "code",
   "execution_count": 36,
   "metadata": {},
   "outputs": [
    {
     "name": "stdout",
     "output_type": "stream",
     "text": [
      "2\n",
      "3\n"
     ]
    }
   ],
   "source": [
    "# https://leetcode.com/problems/find-the-duplicate-number/\n",
    "def swap(arr, ind1, ind2):\n",
    "    temp = arr[ind2]\n",
    "    arr[ind2] = arr[ind1]\n",
    "    arr[ind1] = temp\n",
    "\n",
    "def findDuplicate(arr):\n",
    "    i = 0\n",
    "    while i<len(arr):\n",
    "        correct = arr[i] - 1\n",
    "        if arr[i] != arr[correct]:\n",
    "            swap(arr, i, correct)\n",
    "        else:\n",
    "            i+=1\n",
    "    for i, num in enumerate(arr):\n",
    "        if num != i+1:\n",
    "            print(num)\n",
    "\n",
    "findDuplicate([1,3,4,2,2])\n",
    "findDuplicate([3,1,3,4,2])"
   ]
  },
  {
   "cell_type": "code",
   "execution_count": 38,
   "metadata": {},
   "outputs": [
    {
     "name": "stdout",
     "output_type": "stream",
     "text": [
      "[3, 2]\n",
      "[1]\n",
      "[]\n"
     ]
    }
   ],
   "source": [
    "# https://leetcode.com/problems/find-all-duplicates-in-an-array/\n",
    "def swap(arr, ind1, ind2):\n",
    "    temp = arr[ind2]\n",
    "    arr[ind2] = arr[ind1]\n",
    "    arr[ind1] = temp\n",
    "\n",
    "def findDuplicate(arr):\n",
    "    i = 0\n",
    "    while i<len(arr):\n",
    "        correct = arr[i] - 1\n",
    "        if arr[i] != arr[correct]:\n",
    "            swap(arr, i, correct)\n",
    "        else:\n",
    "            i+=1\n",
    "    res = []\n",
    "    for i, num in enumerate(arr):\n",
    "        if num != i+1:\n",
    "            res.append(num)\n",
    "    print(res)\n",
    "\n",
    "findDuplicate([4,3,2,7,8,2,3,1])\n",
    "findDuplicate([1,1,2])\n",
    "findDuplicate([1])"
   ]
  },
  {
   "cell_type": "code",
   "execution_count": 48,
   "metadata": {},
   "outputs": [
    {
     "name": "stdout",
     "output_type": "stream",
     "text": [
      "[2, 3]\n",
      "[1, 2]\n",
      "[2, 3]\n",
      "[-1, -1]\n"
     ]
    }
   ],
   "source": [
    "# https://leetcode.com/problems/set-mismatch/\n",
    "def swap(arr, ind1, ind2):\n",
    "    temp = arr[ind2]\n",
    "    arr[ind2] = arr[ind1]\n",
    "    arr[ind1] = temp\n",
    "\n",
    "def findErrorNums(arr):\n",
    "    i = 0\n",
    "    while i < len(arr):\n",
    "        correct = arr[i] - 1\n",
    "        if arr[i] != arr[correct]:\n",
    "            swap(arr, i, correct)\n",
    "        else:\n",
    "            i += 1\n",
    "    res = [-1,-1]\n",
    "    for i, num in enumerate(arr):\n",
    "        if num != i+1:\n",
    "            res = [num, (i+1)]\n",
    "    print(res)\n",
    "\n",
    "findErrorNums([1,2,2,4])\n",
    "findErrorNums([1,1])\n",
    "findErrorNums([2,1,4,2,6,5])\n",
    "findErrorNums([2,1,4,3,6,5])\n"
   ]
  },
  {
   "cell_type": "code",
   "execution_count": 60,
   "metadata": {},
   "outputs": [
    {
     "name": "stdout",
     "output_type": "stream",
     "text": [
      "3\n",
      "2\n",
      "1\n",
      "2\n"
     ]
    }
   ],
   "source": [
    "# https://leetcode.com/problems/first-missing-positive/\n",
    "# hard one (beh soo easy)\n",
    "def swap(arr, ind1, ind2):\n",
    "    temp = arr[ind2]\n",
    "    arr[ind2] = arr[ind1]\n",
    "    arr[ind1] = temp\n",
    "\n",
    "def firstMissingPositive(arr):\n",
    "    i = 0\n",
    "    while i<len(arr):\n",
    "        correct = arr[i] - 1\n",
    "        if arr[i]>0 and arr[i]<=len(arr) and arr[i] != arr[correct]:\n",
    "            swap(arr,i,correct)\n",
    "        else:\n",
    "            i += 1\n",
    "    for i, num in enumerate(arr):\n",
    "        if num!=i+1:\n",
    "            return i+1\n",
    "    return len(arr)+1\n",
    "\n",
    "print(firstMissingPositive([1,2,0]))\n",
    "print(firstMissingPositive([3,4,-1,1]))\n",
    "print(firstMissingPositive([7,8,9,11,12]))\n",
    "print(firstMissingPositive([1]))"
   ]
  },
  {
   "cell_type": "code",
   "execution_count": null,
   "metadata": {},
   "outputs": [],
   "source": []
  }
 ],
 "metadata": {
  "interpreter": {
   "hash": "6eb1ca0e59ab85dc9eb8be3744d92e9e4e7eb514696998a8a0ffac57ba5d31d3"
  },
  "kernelspec": {
   "display_name": "Python 3.10.2 64-bit",
   "language": "python",
   "name": "python3"
  },
  "language_info": {
   "codemirror_mode": {
    "name": "ipython",
    "version": 3
   },
   "file_extension": ".py",
   "mimetype": "text/x-python",
   "name": "python",
   "nbconvert_exporter": "python",
   "pygments_lexer": "ipython3",
   "version": "3.10.5"
  },
  "orig_nbformat": 4
 },
 "nbformat": 4,
 "nbformat_minor": 2
}
