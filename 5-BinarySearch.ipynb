{
 "cells": [
  {
   "cell_type": "markdown",
   "metadata": {},
   "source": [
    "# Binary Search\n",
    "$$Time Complexity => O(log n)$$"
   ]
  },
  {
   "cell_type": "code",
   "execution_count": 44,
   "metadata": {},
   "outputs": [],
   "source": [
    "def binary_search(arr, target):\n",
    "    start = 0\n",
    "    end = len(arr) - 1\n",
    "    mid = 0\n",
    "    \n",
    "    while start<=end:\n",
    "        mid = (start+end)//2\n",
    "        if target > arr[mid]:\n",
    "            start = mid + 1\n",
    "        elif target < arr[mid]:\n",
    "            end = mid - 1\n",
    "        else:\n",
    "            return mid\n",
    "    return -1"
   ]
  },
  {
   "cell_type": "code",
   "execution_count": 46,
   "metadata": {},
   "outputs": [
    {
     "name": "stdout",
     "output_type": "stream",
     "text": [
      "Element is present at index 3\n"
     ]
    }
   ],
   "source": [
    "# Test array\n",
    "arr = [ 2, 3, 4, 10, 40 ]\n",
    "x = 10\n",
    " \n",
    "# Function call\n",
    "result = binary_search(arr, x)\n",
    " \n",
    "if result != -1:\n",
    "    print(\"Element is present at index\", str(result))\n",
    "else:\n",
    "    print(\"Element is not present in array\")"
   ]
  },
  {
   "cell_type": "markdown",
   "metadata": {},
   "source": [
    "## Find ceiling of target"
   ]
  },
  {
   "cell_type": "code",
   "execution_count": 19,
   "metadata": {},
   "outputs": [],
   "source": [
    "def ceil_search(arr, target):\n",
    "    start = 0\n",
    "    end = len(arr) - 1\n",
    "    mid = 0\n",
    "    \n",
    "    while start<=end:\n",
    "        mid = (start+end)//2\n",
    "        if target > arr[mid]: #on right side\n",
    "            start = mid + 1\n",
    "        elif target < arr[mid]: #on left side\n",
    "            end = mid - 1\n",
    "        else:\n",
    "            return arr[mid]\n",
    "    return arr[start]"
   ]
  },
  {
   "cell_type": "code",
   "execution_count": 20,
   "metadata": {},
   "outputs": [
    {
     "name": "stdout",
     "output_type": "stream",
     "text": [
      "Nearest Element is ->  6\n"
     ]
    }
   ],
   "source": [
    "arr = [ 2, 3, 6, 10, 40 ]\n",
    "x = 5\n",
    "result = ceil_search(arr, x)\n",
    "print(\"Nearest Element is -> \", str(result))"
   ]
  },
  {
   "cell_type": "markdown",
   "metadata": {},
   "source": [
    "## Finding floor of target"
   ]
  },
  {
   "cell_type": "code",
   "execution_count": 21,
   "metadata": {},
   "outputs": [],
   "source": [
    "def floor_search(arr, target):\n",
    "    start = 0\n",
    "    end = len(arr) - 1\n",
    "    mid = 0\n",
    "    \n",
    "    while start<=end:\n",
    "        mid = (start+end)//2\n",
    "        if target > arr[mid]: #on right side\n",
    "            start = mid + 1\n",
    "        elif target < arr[mid]: #on left side\n",
    "            end = mid - 1\n",
    "        else:\n",
    "            return arr[mid]\n",
    "    return arr[end]"
   ]
  },
  {
   "cell_type": "code",
   "execution_count": 22,
   "metadata": {},
   "outputs": [
    {
     "name": "stdout",
     "output_type": "stream",
     "text": [
      "Nearest Element is ->  3\n"
     ]
    }
   ],
   "source": [
    "arr = [ 2, 3, 6, 10, 40 ]\n",
    "x = 5\n",
    "result = floor_search(arr, x)\n",
    "print(\"Nearest Element is -> \", str(result))"
   ]
  },
  {
   "cell_type": "markdown",
   "metadata": {},
   "source": [
    "## Ceiling Search of letter (Leetcode)\n",
    "[https://leetcode.com/problems/find-smallest-letter-greater-than-target/](https://leetcode.com/problems/find-smallest-letter-greater-than-target/)"
   ]
  },
  {
   "cell_type": "code",
   "execution_count": 38,
   "metadata": {},
   "outputs": [],
   "source": [
    "def ceil_search2(arr, target):\n",
    "    start = 0\n",
    "    end = len(arr) - 1\n",
    "    mid = 0\n",
    "    \n",
    "    while start<=end:\n",
    "        mid = (start+end)//2\n",
    "        if ord(target) < ord(arr[mid]): #on left side\n",
    "            end = mid - 1\n",
    "        else:\n",
    "            start = mid + 1\n",
    "    return arr[start%len(arr)]"
   ]
  },
  {
   "cell_type": "code",
   "execution_count": 39,
   "metadata": {},
   "outputs": [
    {
     "name": "stdout",
     "output_type": "stream",
     "text": [
      "Nearest Element is ->  z\n"
     ]
    }
   ],
   "source": [
    "arr = [ 'c', 'd', 'f', 'j', 'z' ]\n",
    "x = 'y'\n",
    "result = ceil_search2(arr, x)\n",
    "print(\"Nearest Element is -> \", result)"
   ]
  },
  {
   "cell_type": "markdown",
   "metadata": {},
   "source": [
    "## First and Last Position of sorted array (LeetCode)\n",
    "[https://leetcode.com/problems/find-first-and-last-position-of-element-in-sorted-array/](https://leetcode.com/problems/find-first-and-last-position-of-element-in-sorted-array/)"
   ]
  },
  {
   "cell_type": "markdown",
   "metadata": {},
   "source": [
    "#### Brute Force"
   ]
  },
  {
   "cell_type": "code",
   "execution_count": 43,
   "metadata": {},
   "outputs": [
    {
     "name": "stdout",
     "output_type": "stream",
     "text": [
      "-1 -1\n"
     ]
    }
   ],
   "source": [
    "def brute(arr, target):\n",
    "    res1 = -1\n",
    "    res2 = -1\n",
    "    for i,j in zip(range(0,len(arr),1), range(len(arr)-1,0,-1)):\n",
    "        if arr[i]==target and res1==-1:\n",
    "            res1 = i\n",
    "        if arr[j]==target and res2==-1:\n",
    "            res2 = j\n",
    "    print(res1, res2)\n",
    "\n",
    "arr = [ 2, 3, 3, 3, 5, 6, 40 ]\n",
    "x = 30\n",
    "brute(arr, x)\n"
   ]
  },
  {
   "cell_type": "markdown",
   "metadata": {},
   "source": [
    "#### Binary Search Method"
   ]
  },
  {
   "cell_type": "code",
   "execution_count": 53,
   "metadata": {},
   "outputs": [
    {
     "name": "stdout",
     "output_type": "stream",
     "text": [
      "[-1, -1]\n",
      "[1, 3]\n"
     ]
    }
   ],
   "source": [
    "def searchIndex(arr, target, findStartIndex):\n",
    "    ans, start, end, mid = -1, 0, len(arr)-1, 0\n",
    "    while start<=end:\n",
    "        mid = (start+end)//2\n",
    "        if target > arr[mid]:\n",
    "            start = mid + 1\n",
    "        elif target < arr[mid]:\n",
    "            end = mid - 1\n",
    "        else:\n",
    "            # Here, we found one possible answer\n",
    "            ans = mid \n",
    "            if findStartIndex:\n",
    "                end = mid - 1\n",
    "            else:\n",
    "                start = mid + 1\n",
    "    return ans\n",
    "\n",
    "def bin(arr, target):\n",
    "    ans = [-1,-1]\n",
    "    ans[0] = searchIndex(arr, target, True)\n",
    "    if ans[0]!=-1:\n",
    "        ans[1] = searchIndex(arr, target, False)\n",
    "    return ans\n",
    "\n",
    "arr = [ 2, 3, 3, 3, 5, 6, 40 ]\n",
    "x = 30\n",
    "print(bin(arr, x))\n",
    "\n",
    "arr = [ 2, 3, 3, 3, 5, 6, 40 ]\n",
    "x = 3\n",
    "print(bin(arr, x))\n"
   ]
  },
  {
   "cell_type": "markdown",
   "metadata": {},
   "source": [
    "## Infinte Array (GFG)"
   ]
  },
  {
   "cell_type": "code",
   "execution_count": 71,
   "metadata": {},
   "outputs": [
    {
     "name": "stdout",
     "output_type": "stream",
     "text": [
      "Index : 3\n"
     ]
    }
   ],
   "source": [
    "def binary_search(arr, target, start, end):\n",
    "    mid = 0    \n",
    "    while start<=end:\n",
    "        mid = (start+end)//2\n",
    "        if target > arr[mid]:\n",
    "            start = mid + 1\n",
    "        elif target < arr[mid]:\n",
    "            end = mid - 1\n",
    "        else:\n",
    "            return mid\n",
    "    return -1\n",
    "\n",
    "def findWindow(arr, target):\n",
    "    start, end = 0, 1\n",
    "    while target > arr[end]:\n",
    "        temp = end+1\n",
    "        end = end + (end - start + 1) * 2\n",
    "        start = temp\n",
    "    return [start,end]\n",
    "    \n",
    "\n",
    "    \n",
    "arr = [ 2, 3, 5, 9, 12, 23, 34, 38, 40 ]\n",
    "x = 9\n",
    "indexes = findWindow(arr, x)\n",
    "if indexes!=None:\n",
    "    print(\"Index :\",binary_search(arr, x, indexes[0], indexes[1]))"
   ]
  },
  {
   "cell_type": "markdown",
   "metadata": {},
   "source": [
    "## Peak Index (LeetCode)\n",
    "[https://leetcode.com/problems/peak-index-in-a-mountain-array/](https://leetcode.com/problems/peak-index-in-a-mountain-array/)\n",
    "\n",
    "[https://leetcode.com/problems/find-peak-element/](https://leetcode.com/problems/find-peak-element/)"
   ]
  },
  {
   "cell_type": "code",
   "execution_count": 86,
   "metadata": {},
   "outputs": [
    {
     "name": "stdout",
     "output_type": "stream",
     "text": [
      "Highest element is 100 at: 4\n"
     ]
    }
   ],
   "source": [
    "def peakIndex(arr):\n",
    "    start = 0\n",
    "    end = len(arr)-1\n",
    "    mid = 0\n",
    "\n",
    "    while start < end:\n",
    "        mid = start + (end - start)//2\n",
    "        if arr[mid] > arr[mid+1]: #go to left side\n",
    "            end = mid\n",
    "        else:\n",
    "            start = mid + 1\n",
    "    return start\n",
    "\n",
    "arr = [3,15,24,69,100,99,79,78,67,36,26,19]\n",
    "res = peakIndex(arr)\n",
    "print(\"Highest element is \"+str(arr[res])+\" at: \"+str(res))"
   ]
  },
  {
   "cell_type": "markdown",
   "metadata": {},
   "source": [
    "## Find in mountain array (LeetCode) - Bleh Hard\n",
    "[https://leetcode.com/problems/find-in-mountain-array/submissions/](https://leetcode.com/problems/find-in-mountain-array/submissions/)"
   ]
  },
  {
   "cell_type": "code",
   "execution_count": 111,
   "metadata": {},
   "outputs": [
    {
     "name": "stdout",
     "output_type": "stream",
     "text": [
      "4\n",
      "The element 99 is at: 2\n"
     ]
    }
   ],
   "source": [
    "def orderAgnostic_BS(arr, target, start, end):\n",
    "    mid = 0\n",
    "    isAsc = arr[start] < arr[end]\n",
    "    while start<=end:\n",
    "        mid = start + (end - start)//2\n",
    "        if target == arr[mid]:\n",
    "            return mid\n",
    "        if isAsc:\n",
    "            if target > arr[mid]:\n",
    "                start = mid + 1\n",
    "            else:\n",
    "                end = mid - 1\n",
    "        else:\n",
    "            if target < arr[mid]:\n",
    "                start = mid + 1\n",
    "            else:\n",
    "                end = mid - 1    \n",
    "    return -1\n",
    "\n",
    "def searchTarget(arr, target):\n",
    "    peak = peakIndex(arr)\n",
    "    print(peak)\n",
    "    res = orderAgnostic_BS(arr, target, 0, peak)\n",
    "    if res == -1: \n",
    "        res = orderAgnostic_BS(arr, target, peak+1, len(arr)-1)\n",
    "    return res\n",
    "\n",
    "def peakIndex(arr):\n",
    "    start = 0\n",
    "    end = len(arr)-1\n",
    "    mid = 0\n",
    "\n",
    "    while start < end:\n",
    "        mid = start + (end - start)//2\n",
    "        if arr[mid] > arr[mid+1]: #go to left side\n",
    "            end = mid\n",
    "        else:\n",
    "            start = mid + 1\n",
    "    return start\n",
    "\n",
    "#arr = [3,15,24,69,100,99,79,78,67,36,26,19]\n",
    "arr = [1,2,3,4,5,3,1]\n",
    "res = searchTarget(arr, 3)\n",
    "print(\"The element \"+str(99)+\" is at: \"+str(res))"
   ]
  },
  {
   "cell_type": "markdown",
   "metadata": {},
   "source": [
    "## Search in rotated sorted array (Leetcode)\n",
    "[https://leetcode.com/problems/search-in-rotated-sorted-array/](https://leetcode.com/problems/search-in-rotated-sorted-array/)"
   ]
  },
  {
   "cell_type": "code",
   "execution_count": 13,
   "metadata": {},
   "outputs": [
    {
     "name": "stdout",
     "output_type": "stream",
     "text": [
      "0\n",
      "0\n"
     ]
    }
   ],
   "source": [
    "class Solution:\n",
    "    def findpivot(self, arr):\n",
    "        if(len(arr)==1):\n",
    "            return 0\n",
    "        start = 0\n",
    "        end = len(arr)-1\n",
    "        while start <= end:\n",
    "            mid = start + (end - start)//2\n",
    "            #4 cases\n",
    "            if(mid<end and arr[mid]>arr[mid+1]): # pivot in between\n",
    "                print(\"kkkk\")\n",
    "                return mid\n",
    "            if(mid>start and arr[mid]<arr[mid-1]): # pivot is 1st element\n",
    "                print(\"gkhghkhj\")\n",
    "                return mid-1\n",
    "            if(arr[mid] <= arr[start]): # pivot will be on left side\n",
    "                end = mid-1\n",
    "            else: # pivot will be on right side\n",
    "                start = mid+1\n",
    "        return -1\n",
    "\n",
    "    def binary_search(self, arr, target, start, end):\n",
    "        mid = 0\n",
    "        while start<=end:\n",
    "            mid = (start+end)//2\n",
    "            if target > arr[mid]:\n",
    "                start = mid + 1\n",
    "            elif target < arr[mid]:\n",
    "                end = mid - 1\n",
    "            else:\n",
    "                return mid\n",
    "        return -1\n",
    "    \n",
    "    def search(self, arr, target) -> int:\n",
    "        pivot = self.findpivot(arr)\n",
    "        print(pivot)\n",
    "        if pivot != -1:\n",
    "            try1 = self.binary_search(arr, target, 0, pivot)\n",
    "            if(try1==-1):\n",
    "                try1 = self.binary_search(arr, target, pivot+1, len(arr)-1)\n",
    "            return try1\n",
    "        return -1\n",
    "\n",
    "nums = [1]\n",
    "target = 1\n",
    "s = Solution()\n",
    "print(s.search(nums,target))"
   ]
  },
  {
   "cell_type": "code",
   "execution_count": null,
   "metadata": {},
   "outputs": [],
   "source": []
  }
 ],
 "metadata": {
  "interpreter": {
   "hash": "b3ba2566441a7c06988d0923437866b63cedc61552a5af99d1f4fb67d367b25f"
  },
  "kernelspec": {
   "display_name": "Python 3.7.6 64-bit ('base': conda)",
   "language": "python",
   "name": "python3"
  },
  "language_info": {
   "codemirror_mode": {
    "name": "ipython",
    "version": 3
   },
   "file_extension": ".py",
   "mimetype": "text/x-python",
   "name": "python",
   "nbconvert_exporter": "python",
   "pygments_lexer": "ipython3",
   "version": "3.7.11"
  },
  "orig_nbformat": 4
 },
 "nbformat": 4,
 "nbformat_minor": 2
}
