{
 "cells": [
  {
   "cell_type": "code",
   "execution_count": 3,
   "metadata": {},
   "outputs": [],
   "source": [
    "class Stack():\n",
    "    def __init__(self):\n",
    "        self.stack = list()\n",
    "    def push(self, item):\n",
    "        self.stack.append(item)\n",
    "    def pop(self):\n",
    "        if len(self.stack)>0:\n",
    "            return self.stack.pop()\n",
    "        else:\n",
    "            return None\n",
    "    def peek(self):\n",
    "        if len(self.stack)>0:\n",
    "            return self.stack[len(self.stack) - 1]\n",
    "        else:\n",
    "            return None\n",
    "    def __str__(self):\n",
    "        return str(self.stack)"
   ]
  },
  {
   "cell_type": "code",
   "execution_count": 4,
   "metadata": {},
   "outputs": [
    {
     "name": "stdout",
     "output_type": "stream",
     "text": [
      "[1, 3]\n",
      "3\n",
      "1\n",
      "1\n",
      "None\n"
     ]
    }
   ],
   "source": [
    "my_stack = Stack()\n",
    "my_stack.push(1)\n",
    "my_stack.push(3)\n",
    "print(my_stack)\n",
    "print(my_stack.pop())\n",
    "print(my_stack.peek())\n",
    "print(my_stack.pop())\n",
    "print(my_stack.pop())"
   ]
  },
  {
   "cell_type": "code",
   "execution_count": null,
   "metadata": {},
   "outputs": [],
   "source": []
  }
 ],
 "metadata": {
  "interpreter": {
   "hash": "b3ba2566441a7c06988d0923437866b63cedc61552a5af99d1f4fb67d367b25f"
  },
  "kernelspec": {
   "display_name": "Python 3.7.6 64-bit ('base': conda)",
   "language": "python",
   "name": "python3"
  },
  "language_info": {
   "codemirror_mode": {
    "name": "ipython",
    "version": 3
   },
   "file_extension": ".py",
   "mimetype": "text/x-python",
   "name": "python",
   "nbconvert_exporter": "python",
   "pygments_lexer": "ipython3",
   "version": "3.7.6"
  },
  "orig_nbformat": 4
 },
 "nbformat": 4,
 "nbformat_minor": 2
}
