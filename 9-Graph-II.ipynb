{
 "cells": [
  {
   "cell_type": "markdown",
   "metadata": {},
   "source": [
    "# DFS\n",
    "In Graph theory, the depth-first search algorithm (abbreviated as DFS) is mainly used to:\n",
    "\n",
    "* Traverse all vertices in a “graph”;\n",
    "* Traverse all paths between any two vertices in a “graph”."
   ]
  },
  {
   "cell_type": "markdown",
   "metadata": {},
   "source": [
    "Complexity Analysis\n",
    "Time Complexity: $O(V + E)$. Here, $V$ represents the number of vertices, and $E$ represents the number of edges. We need to check every vertex and traverse through every edge in the graph.\n",
    "\n",
    "Space Complexity: $O(V)$. Either the manually created stack or the recursive call stack can store up to $V$ vertices."
   ]
  },
  {
   "cell_type": "markdown",
   "metadata": {},
   "source": [
    "## Print All Paths in Graph"
   ]
  },
  {
   "cell_type": "code",
   "execution_count": null,
   "metadata": {},
   "outputs": [],
   "source": [
    "from collections import defaultdict\n",
    "class Graph():\n",
    "    def __init__(self, vertices):\n",
    "        self.vertices = vertices\n",
    "        self.graph = defaultdict(list)\n",
    "    \n",
    "    def addEdge(self, x, y):\n",
    "        self.graph[x] = y\n",
    "\n",
    "    def printAllPath(self, source, dest):\n",
    "        visited = [False] * (self.vertices)\n",
    "        path = []\n",
    "        self.printAllPathUtil(source, dest, visited, path)\n",
    "\n",
    "    def printAllPathUtil(self, source, dest, visited, path):\n",
    "        visited[source] = True\n",
    "        path.append(source)\n",
    "        if source == dest:\n",
    "            print(path)\n",
    "        else:\n",
    "            for i in range(self.graph[source]):\n",
    "                if visited[i] == False:\n",
    "                    self.printAllPathUtil(i, dest, visited, path)\n",
    "        path.pop()\n",
    "        visited[source] = False\n",
    "\n",
    "g = Graph(4)\n",
    "g.addEdge(0,1)\n",
    "g.addEdge(0,2)\n",
    "g.addEdge(0,3)\n",
    "g.addEdge(2,0)\n",
    "g.addEdge(2,1)\n",
    "g.addEdge(1,3)\n",
    "source = 0\n",
    "dest = 3\n",
    "\n",
    "g.printAllPath(source, dest)"
   ]
  },
  {
   "cell_type": "code",
   "execution_count": null,
   "metadata": {},
   "outputs": [],
   "source": []
  }
 ],
 "metadata": {
  "interpreter": {
   "hash": "b3ba2566441a7c06988d0923437866b63cedc61552a5af99d1f4fb67d367b25f"
  },
  "kernelspec": {
   "display_name": "Python 3.7.6 64-bit ('base': conda)",
   "language": "python",
   "name": "python3"
  },
  "language_info": {
   "codemirror_mode": {
    "name": "ipython",
    "version": 3
   },
   "file_extension": ".py",
   "mimetype": "text/x-python",
   "name": "python",
   "nbconvert_exporter": "python",
   "pygments_lexer": "ipython3",
   "version": "3.7.11"
  },
  "orig_nbformat": 4
 },
 "nbformat": 4,
 "nbformat_minor": 2
}
