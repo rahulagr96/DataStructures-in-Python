{
 "cells": [
  {
   "cell_type": "markdown",
   "metadata": {},
   "source": [
    "## Two Sum\n",
    "[https://leetcode.com/problems/two-sum/](https://leetcode.com/problems/two-sum/)\n",
    "\n",
    "$Hint - HashMap$"
   ]
  },
  {
   "cell_type": "code",
   "execution_count": 4,
   "metadata": {},
   "outputs": [
    {
     "name": "stdout",
     "output_type": "stream",
     "text": [
      "[2, 1]\n"
     ]
    }
   ],
   "source": [
    "class Solution:\n",
    "    def twoSum(self, nums, target: int):\n",
    "        hashmap = {}\n",
    "        for i in range(len(nums)):\n",
    "            x = nums[i]\n",
    "            y = target - x\n",
    "            val = hashmap.get(y, \"empty\")\n",
    "            if val == \"empty\":\n",
    "                hashmap[x] = i\n",
    "            else:\n",
    "                return [i, hashmap[y]]\n",
    "\n",
    "s = Solution()\n",
    "print(s.twoSum([2,7,11,15],18))"
   ]
  },
  {
   "cell_type": "markdown",
   "metadata": {},
   "source": [
    "## Longest Substring Without Repeating Characters\n",
    "[https://leetcode.com/problems/longest-substring-without-repeating-characters/](https://leetcode.com/problems/longest-substring-without-repeating-characters/)\n",
    "\n",
    "$Hint - SlidingWindow$"
   ]
  },
  {
   "cell_type": "code",
   "execution_count": 10,
   "metadata": {},
   "outputs": [
    {
     "name": "stdout",
     "output_type": "stream",
     "text": [
      "3\n"
     ]
    }
   ],
   "source": [
    "class Solution:\n",
    "    def lengthOfLongestSubstring(self, s: str) -> int:\n",
    "        ans = 0\n",
    "        sub = ''\n",
    "        for char in s:\n",
    "            if char not in sub:\n",
    "                sub += char\n",
    "                ans = max(ans, len(sub))\n",
    "            else:\n",
    "                cut = sub.index(char)\n",
    "                sub = sub[cut+1:] + char\n",
    "        return (ans)\n",
    "\n",
    "sol = Solution()\n",
    "print(sol.lengthOfLongestSubstring(\"aabcabcbb\"))"
   ]
  },
  {
   "cell_type": "code",
   "execution_count": null,
   "metadata": {},
   "outputs": [],
   "source": []
  }
 ],
 "metadata": {
  "interpreter": {
   "hash": "b3ba2566441a7c06988d0923437866b63cedc61552a5af99d1f4fb67d367b25f"
  },
  "kernelspec": {
   "display_name": "Python 3.7.11 64-bit ('base': conda)",
   "language": "python",
   "name": "python3"
  },
  "language_info": {
   "codemirror_mode": {
    "name": "ipython",
    "version": 3
   },
   "file_extension": ".py",
   "mimetype": "text/x-python",
   "name": "python",
   "nbconvert_exporter": "python",
   "pygments_lexer": "ipython3",
   "version": "3.7.11"
  },
  "orig_nbformat": 4
 },
 "nbformat": 4,
 "nbformat_minor": 2
}
