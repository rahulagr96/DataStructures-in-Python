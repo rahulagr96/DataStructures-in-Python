{
 "cells": [
  {
   "cell_type": "markdown",
   "metadata": {},
   "source": [
    "## Two Sum\n",
    "[https://leetcode.com/problems/two-sum/](https://leetcode.com/problems/two-sum/)\n",
    "\n",
    "$Hint - HashMap$"
   ]
  },
  {
   "cell_type": "code",
   "execution_count": 4,
   "metadata": {},
   "outputs": [
    {
     "name": "stdout",
     "output_type": "stream",
     "text": [
      "[2, 1]\n"
     ]
    }
   ],
   "source": [
    "class Solution:\n",
    "    def twoSum(self, nums, target: int):\n",
    "        hashmap = {}\n",
    "        for i in range(len(nums)):\n",
    "            x = nums[i]\n",
    "            y = target - x\n",
    "            val = hashmap.get(y, \"empty\")\n",
    "            if val == \"empty\":\n",
    "                hashmap[x] = i\n",
    "            else:\n",
    "                return [i, hashmap[y]]\n",
    "\n",
    "s = Solution()\n",
    "print(s.twoSum([2,7,11,15],18))"
   ]
  },
  {
   "cell_type": "markdown",
   "metadata": {},
   "source": [
    "## Longest Substring Without Repeating Characters\n",
    "[https://leetcode.com/problems/longest-substring-without-repeating-characters/](https://leetcode.com/problems/longest-substring-without-repeating-characters/)\n",
    "\n",
    "$Hint - SlidingWindow$"
   ]
  },
  {
   "cell_type": "code",
   "execution_count": null,
   "metadata": {},
   "outputs": [],
   "source": [
    "class Solution:\n",
    "    def lengthOfLongestSubstring(self, word: str) -> int:\n",
    "        charArr = [0] * 128\n",
    "        left = 0\n",
    "        right = 0\n",
    "        res = 0\n",
    "\n",
    "        while right < len(word):\n",
    "            rt = ord(word[right])\n",
    "            charArr[rt] += 1\n",
    "\n",
    "            while charArr[rt] > 1:\n",
    "                lt = ord(word[left])\n",
    "                charArr[lt] -= 1\n",
    "                left += 1\n",
    "            \n",
    "            res = max(res, right - left + 1)\n",
    "            right += 1\n",
    "            \n",
    "        return res\n",
    "sol = Solution()\n",
    "print(sol.lengthOfLongestSubstring(\"aabcabcbb\"))"
   ]
  },
  {
   "cell_type": "code",
   "execution_count": 26,
   "metadata": {},
   "outputs": [
    {
     "name": "stdout",
     "output_type": "stream",
     "text": [
      "{'a': 1}\n",
      "{'a': 1, 'b': 2}\n",
      "{'a': 1, 'b': 2, 'c': 3}\n",
      "{'a': 4, 'b': 2, 'c': 3}\n",
      "{'a': 4, 'b': 5, 'c': 3}\n",
      "{'a': 4, 'b': 5, 'c': 6}\n",
      "{'a': 4, 'b': 7, 'c': 6}\n",
      "{'a': 4, 'b': 8, 'c': 6}\n",
      "3\n"
     ]
    }
   ],
   "source": [
    "class Solution:\n",
    "    def lengthOfLongestSubstring(self, word: str) -> int:\n",
    "        ans = 0\n",
    "        hashmap = {}\n",
    "\n",
    "        i=0\n",
    "        for j in range(len(word)):\n",
    "            if word[j] in hashmap:\n",
    "                i = max(hashmap[word[j]], i)\n",
    "            ans = max(ans, j-i+1)\n",
    "            hashmap[word[j]] = j+1\n",
    "            print(hashmap)\n",
    "\n",
    "        return ans\n",
    "\n",
    "sol = Solution()\n",
    "print(sol.lengthOfLongestSubstring(\"abcabcbb\"))"
   ]
  },
  {
   "cell_type": "markdown",
   "metadata": {},
   "source": [
    "Optimized Sliding Window"
   ]
  },
  {
   "cell_type": "code",
   "execution_count": 20,
   "metadata": {},
   "outputs": [
    {
     "name": "stdout",
     "output_type": "stream",
     "text": [
      "3\n"
     ]
    }
   ],
   "source": [
    "class Solution:\n",
    "    def lengthOfLongestSubstring(self, word: str) -> int:\n",
    "        charArr = [None] * 128\n",
    "        left = 0\n",
    "        right = 0\n",
    "        res = 0\n",
    "\n",
    "        while right < len(word):\n",
    "            rt = ord(word[right])\n",
    "\n",
    "            index = charArr[rt]\n",
    "            if(index!=None and index>=left and index<right):\n",
    "                left = index + 1\n",
    "            \n",
    "            res = max(res, right - left + 1)\n",
    "            charArr[rt] = right\n",
    "            right += 1\n",
    "        return res\n",
    "\n",
    "sol = Solution()\n",
    "print(sol.lengthOfLongestSubstring(\"aabcabcbb\"))"
   ]
  },
  {
   "cell_type": "code",
   "execution_count": 59,
   "metadata": {},
   "outputs": [
    {
     "name": "stdout",
     "output_type": "stream",
     "text": [
      "True\n",
      "0\n"
     ]
    }
   ],
   "source": [
    "s = \"      dsfsdf\"\n",
    "s = s.strip()\n",
    "\n",
    "def convertInt(word):\n",
    "    res = 0\n",
    "    n = len(word)\n",
    "    for i in range(n):\n",
    "        res += pow(10,n-1-i) * (ord(word[i]) - 48)\n",
    "    return res\n",
    "    \n",
    "neg_flag = False\n",
    "res = \"\"\n",
    "print(s.isalpha())\n",
    "for i in range(len(s)):\n",
    "    if s[i] == ' ':\n",
    "        continue\n",
    "    elif s[i] == '-':\n",
    "        neg_flag = True\n",
    "    elif s[i].isdigit():\n",
    "        res += s[i]\n",
    "re = convertInt(res)\n",
    "re = (-1)*re if neg_flag is True else re\n",
    "print(re)"
   ]
  },
  {
   "cell_type": "code",
   "execution_count": 65,
   "metadata": {},
   "outputs": [
    {
     "name": "stdout",
     "output_type": "stream",
     "text": [
      "2147483647\n"
     ]
    }
   ],
   "source": [
    "def convertInt(word):\n",
    "    res = 0\n",
    "    n = len(word)\n",
    "    for i in range(n):\n",
    "        res += pow(10,n-1-i) * (ord(word[i]) - 48)\n",
    "    return res\n",
    "\n",
    "def cc(s):\n",
    "    if s is None or len(s)==0:\n",
    "        return 0\n",
    "    s=s.strip()\n",
    "    neg_flag = False\n",
    "    res = \"\"\n",
    "    if s[0].isalpha():\n",
    "        return 0\n",
    "    if not (s[1].isdigit()):\n",
    "        return 0\n",
    "    for i in range(len(s)):\n",
    "        if s[i] == ' ':\n",
    "            continue\n",
    "        elif s[i] == '-':\n",
    "            neg_flag = True\n",
    "        elif s[i] == '+':\n",
    "            neg_flag = False\n",
    "        elif s[i].isdigit():\n",
    "            res += s[i]\n",
    "        elif s[i] == '.':\n",
    "            break\n",
    "    re = convertInt(res)\n",
    "    re = (-1)*re if neg_flag is True else re\n",
    "    if re in range(-1*pow(2,31), pow(2,31)):\n",
    "        return re\n",
    "    elif re <= -1*pow(2,31):\n",
    "        return -1*pow(2,31)\n",
    "    elif re >= pow(2,31) - 1:\n",
    "        return pow(2,31)-1\n",
    "\n",
    "print(cc(\"21474836460\"))"
   ]
  },
  {
   "cell_type": "code",
   "execution_count": null,
   "metadata": {},
   "outputs": [],
   "source": []
  }
 ],
 "metadata": {
  "interpreter": {
   "hash": "b3ba2566441a7c06988d0923437866b63cedc61552a5af99d1f4fb67d367b25f"
  },
  "kernelspec": {
   "display_name": "Python 3.7.11 64-bit ('base': conda)",
   "language": "python",
   "name": "python3"
  },
  "language_info": {
   "codemirror_mode": {
    "name": "ipython",
    "version": 3
   },
   "file_extension": ".py",
   "mimetype": "text/x-python",
   "name": "python",
   "nbconvert_exporter": "python",
   "pygments_lexer": "ipython3",
   "version": "3.7.11"
  },
  "orig_nbformat": 4
 },
 "nbformat": 4,
 "nbformat_minor": 2
}
