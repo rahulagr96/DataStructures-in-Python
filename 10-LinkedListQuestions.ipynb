{
 "cells": [
  {
   "cell_type": "markdown",
   "metadata": {},
   "source": [
    "## Insert on index using recursion"
   ]
  },
  {
   "cell_type": "code",
   "execution_count": 36,
   "metadata": {},
   "outputs": [],
   "source": [
    "class Node:\n",
    "    def __init__(self,val = None, n=None):\n",
    "        self.val = val\n",
    "        self.next = n\n",
    "    def __str__(self):\n",
    "        return ('('+str(self.val)+')')\n",
    "        \n",
    "class LinkedList:\n",
    "    def __init__(self, r=None):\n",
    "        self.root = r\n",
    "        self.size = 0\n",
    "\n",
    "    def print_list(self):\n",
    "        this_node = self.root\n",
    "        while this_node is not None:\n",
    "            print(this_node,end='->')\n",
    "            this_node = this_node.next\n",
    "        print(\"None\")\n",
    "\n",
    "    def insertFront(self, newData):\n",
    "        nn = Node(newData)\n",
    "        nn.next = self.root\n",
    "        self.root = nn\n",
    "        self.size += 1\n",
    "    \n",
    "    def __insertRec(self, val, index, node:Node):\n",
    "        if index == 0:\n",
    "            nn = Node(val, node)\n",
    "            self.size += 1\n",
    "            return nn\n",
    "        node.next = self.__insertRec(val, index-1, node.next) \n",
    "        return node\n",
    "\n",
    "    def insetUsingRec(self, val, index):\n",
    "        self.root = self.__insertRec(val, index, self.root)"
   ]
  },
  {
   "cell_type": "code",
   "execution_count": 37,
   "metadata": {},
   "outputs": [
    {
     "name": "stdout",
     "output_type": "stream",
     "text": [
      "(Mon)->None\n",
      "(tue)->(Mon)->None\n",
      "(tue)->(Wed)->(Mon)->None\n",
      "(tue)->(Wee)->(Wed)->(Mon)->None\n",
      "(tue)->(Wee)->(Wed)->(Sat)->(Mon)->None\n",
      "(tue)->(Wee)->(Wed)->(Sat)->(Mon)->(Sat)->None\n"
     ]
    }
   ],
   "source": [
    "lis = LinkedList()\n",
    "lis.root = Node(\"Mon\")\n",
    "lis.print_list()\n",
    "lis.insetUsingRec(\"tue\",0)\n",
    "lis.print_list()\n",
    "lis.insetUsingRec(\"Wed\",1)\n",
    "lis.print_list()\n",
    "lis.insetUsingRec(\"Wee\",1)\n",
    "lis.print_list()\n",
    "lis.insetUsingRec(\"Sat\",3)\n",
    "lis.print_list()\n",
    "lis.insetUsingRec(\"Sat\",5)\n",
    "lis.print_list()"
   ]
  },
  {
   "cell_type": "markdown",
   "metadata": {},
   "source": [
    "## Delete common elements"
   ]
  },
  {
   "cell_type": "code",
   "execution_count": 58,
   "metadata": {},
   "outputs": [],
   "source": [
    "class Node:\n",
    "    def __init__(self,val = None, n=None):\n",
    "        self.val = val\n",
    "        self.next = n\n",
    "    def __str__(self):\n",
    "        return ('('+str(self.val)+')')\n",
    "        \n",
    "class LinkedList:\n",
    "    def __init__(self, r=None):\n",
    "        self.root = r\n",
    "        self.size = 0\n",
    "\n",
    "    def addRoot(self, val):\n",
    "        self.root = Node(val)\n",
    "        self.size += 1\n",
    "\n",
    "    def print_list(self):\n",
    "        this_node = self.root\n",
    "        while this_node is not None:\n",
    "            print(this_node,end='->')\n",
    "            this_node = this_node.next\n",
    "        print(\"None\")\n",
    "\n",
    "    def insertFront(self, newData):\n",
    "        nn = Node(newData)\n",
    "        nn.next = self.root\n",
    "        self.root = nn\n",
    "        self.size += 1\n",
    "    \n",
    "    def __insertRec(self, val, index, node:Node):\n",
    "        if index == 0:\n",
    "            nn = Node(val, node)\n",
    "            self.size += 1\n",
    "            return nn\n",
    "        node.next = self.__insertRec(val, index-1, node.next) \n",
    "        return node\n",
    "\n",
    "    def insetUsingRec(self, val, index):\n",
    "        self.root = self.__insertRec(val, index, self.root)\n",
    "\n",
    "    def removeDuplicates(self):\n",
    "        node = self.root\n",
    "        while node.next != None:\n",
    "            if node.val == node.next.val:\n",
    "                node.next = node.next.next\n",
    "                self.size -= 1\n",
    "            else:\n",
    "                node = node.next\n"
   ]
  },
  {
   "cell_type": "code",
   "execution_count": 61,
   "metadata": {},
   "outputs": [
    {
     "name": "stdout",
     "output_type": "stream",
     "text": [
      "(0)->(0)->(1)->(2)->(3)->(3)->None\n",
      "(0)->(1)->(2)->(3)->None\n"
     ]
    }
   ],
   "source": [
    "lis = LinkedList()\n",
    "lis.addRoot(\"0\")\n",
    "lis.insetUsingRec(\"0\",0)\n",
    "lis.insetUsingRec(\"1\",2)\n",
    "lis.insetUsingRec(\"2\",3)\n",
    "lis.insetUsingRec(\"3\",4)\n",
    "lis.insetUsingRec(\"3\",5)\n",
    "lis.print_list()\n",
    "lis.removeDuplicates()\n",
    "lis.print_list()"
   ]
  },
  {
   "cell_type": "code",
   "execution_count": null,
   "metadata": {},
   "outputs": [],
   "source": []
  }
 ],
 "metadata": {
  "interpreter": {
   "hash": "b3ba2566441a7c06988d0923437866b63cedc61552a5af99d1f4fb67d367b25f"
  },
  "kernelspec": {
   "display_name": "Python 3.7.6 64-bit ('base': conda)",
   "language": "python",
   "name": "python3"
  },
  "language_info": {
   "codemirror_mode": {
    "name": "ipython",
    "version": 3
   },
   "file_extension": ".py",
   "mimetype": "text/x-python",
   "name": "python",
   "nbconvert_exporter": "python",
   "pygments_lexer": "ipython3",
   "version": "3.7.11"
  },
  "orig_nbformat": 4
 },
 "nbformat": 4,
 "nbformat_minor": 2
}
