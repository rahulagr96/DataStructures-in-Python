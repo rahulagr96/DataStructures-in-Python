{
 "cells": [
  {
   "cell_type": "markdown",
   "metadata": {},
   "source": [
    "# Quick Find - Disjoint Set\n",
    "### Time Complexity\t\n",
    "$$ UnionFindConstructor ==> O(N)$$\n",
    "$$ Find ==>\tO(1)$$\n",
    "$$ Union ==> O(N)$$\n",
    "$$ Connected ==> O(1)$$"
   ]
  },
  {
   "cell_type": "code",
   "execution_count": 22,
   "metadata": {},
   "outputs": [],
   "source": [
    "class UnionFind():\n",
    "    def __init__(self, size):\n",
    "        self.root = [0] * size\n",
    "        for i in range(size):\n",
    "            self.root[i] = i\n",
    "\n",
    "    def find(self, item):\n",
    "        return self.root[item]\n",
    "    \n",
    "    def union(self, x, y):\n",
    "        root_x = self.find(x)\n",
    "        root_y = self.find(y)\n",
    "        if root_x != root_y:\n",
    "            for i in range(len(self.root)):\n",
    "                if self.root[i] == root_y:\n",
    "                    self.root[i] = root_x\n",
    "            \n",
    "    def connected(self, x, y):\n",
    "        return (self.find(x) == self.find(y))\n",
    "    \n",
    "    def __str__(self):\n",
    "        return str(self.root)"
   ]
  },
  {
   "cell_type": "code",
   "execution_count": 23,
   "metadata": {},
   "outputs": [
    {
     "name": "stdout",
     "output_type": "stream",
     "text": [
      "[0, 1, 2, 3, 4]\n"
     ]
    }
   ],
   "source": [
    "graph = UnionFind(5)\n",
    "print(graph)"
   ]
  },
  {
   "cell_type": "code",
   "execution_count": 24,
   "metadata": {},
   "outputs": [],
   "source": [
    "graph.union(0,1)\n",
    "graph.union(0,2)\n",
    "graph.union(2,3)"
   ]
  },
  {
   "cell_type": "code",
   "execution_count": 25,
   "metadata": {},
   "outputs": [
    {
     "name": "stdout",
     "output_type": "stream",
     "text": [
      "[0, 0, 0, 0, 4]\n"
     ]
    }
   ],
   "source": [
    "print(graph)"
   ]
  },
  {
   "cell_type": "code",
   "execution_count": 26,
   "metadata": {},
   "outputs": [
    {
     "data": {
      "text/plain": [
       "0"
      ]
     },
     "execution_count": 26,
     "metadata": {},
     "output_type": "execute_result"
    }
   ],
   "source": [
    "graph.find(3)"
   ]
  },
  {
   "cell_type": "code",
   "execution_count": 27,
   "metadata": {},
   "outputs": [
    {
     "data": {
      "text/plain": [
       "False"
      ]
     },
     "execution_count": 27,
     "metadata": {},
     "output_type": "execute_result"
    }
   ],
   "source": [
    "graph.connected(3,4)"
   ]
  },
  {
   "cell_type": "markdown",
   "metadata": {},
   "source": [
    "# Quick Union - Disjoint Set\n",
    "### Time Complexity\n",
    "$$ UnionUnionConstructor ==> O(N)$$\n",
    "$$ Find ==>\tO(H) ==> O(logN)$$ \n",
    "For the find operation, in the worst-case scenario, we need to traverse every vertex to find the root for the input vertex. The maximum number of operations to get the root vertex would be no more than the tree's height, so it will take $O(log N)$ time\n",
    "$$ Union ==> O(logN)$$\n",
    "$$ Connected ==> O(logN)$$"
   ]
  },
  {
   "cell_type": "code",
   "execution_count": 28,
   "metadata": {},
   "outputs": [],
   "source": [
    "class QuickUnion:\n",
    "    def __init__(self, size):\n",
    "        self.root = [0]*size\n",
    "        for i in range(size):\n",
    "            self.root[i] = i\n",
    "    \n",
    "    def __str__(self):\n",
    "        return str(self.root)\n",
    "    \n",
    "    def find(self, x):\n",
    "        while self.root[x] != x:\n",
    "            x = self.root[x]\n",
    "        return x\n",
    "    \n",
    "    def union(self, x, y):\n",
    "        root_x = self.find(x)\n",
    "        root_y = self.find(y)\n",
    "        if root_x != root_y:\n",
    "            self.root[y] = root_x\n",
    "    \n",
    "    def connected(self,x,y):\n",
    "        return (self.find(x) == self.find(y))"
   ]
  },
  {
   "cell_type": "code",
   "execution_count": 29,
   "metadata": {},
   "outputs": [
    {
     "name": "stdout",
     "output_type": "stream",
     "text": [
      "[0, 1, 2, 3, 4, 5, 6, 7, 8, 9]\n",
      "[0, 1, 1, 3, 4, 1, 1, 1, 3, 3]\n",
      "True\n",
      "True\n",
      "False\n",
      "True\n"
     ]
    }
   ],
   "source": [
    "# Test Case\n",
    "uf = QuickUnion(10)\n",
    "# 1-2-5-6-7 3-8-9 4\n",
    "uf.union(1, 2)\n",
    "uf.union(2, 5)\n",
    "uf.union(5, 6)\n",
    "uf.union(6, 7)\n",
    "uf.union(3, 8)\n",
    "uf.union(8, 9)\n",
    "print([x for x in range(10)])\n",
    "print(uf)\n",
    "print(uf.connected(1, 5))  # true\n",
    "print(uf.connected(5, 7))  # true\n",
    "print(uf.connected(4, 9))  # false\n",
    "# 1-2-5-6-7 3-8-9-4\n",
    "uf.union(9, 4)\n",
    "print(uf.connected(4, 9))  # true"
   ]
  },
  {
   "cell_type": "markdown",
   "metadata": {},
   "source": [
    "# Optimising Quick Union => Union by Rank - Disjoint Set\n",
    "### Time Complexity\n",
    "$$ UnionRankConstructor ==> O(N)$$\n",
    "$$ Find ==>\tO(logN)$$\n",
    "$$ Union ==> O(logN)$$\n",
    "$$ Connected ==> O(logN)$$"
   ]
  },
  {
   "cell_type": "code",
   "execution_count": 30,
   "metadata": {},
   "outputs": [],
   "source": [
    "class QuickRank():\n",
    "    def __init__(self, size):\n",
    "        self.root = [0] * size\n",
    "        self.rank = [1] * size\n",
    "        for i in range(size):\n",
    "            self.root[i] = i\n",
    "    \n",
    "    def __str__(self):\n",
    "        return str(self.root)\n",
    "    \n",
    "    def find(self, x):\n",
    "        while self.root[x] != x:\n",
    "            x = self.root[x]\n",
    "        return x\n",
    "    \n",
    "    def union(self, x, y):\n",
    "        root_x = self.find(x)\n",
    "        root_y = self.find(y)\n",
    "        if root_x != root_y:\n",
    "            if(self.rank[root_x] > self.rank[root_y]):\n",
    "                self.root[root_y] = root_x\n",
    "            elif(self.rank[root_x] < self.rank[root_y]):\n",
    "                self.root[root_x] = root_y\n",
    "            else:\n",
    "                self.root[root_y] = root_x\n",
    "                self.rank[root_x] += 1\n",
    "    \n",
    "    def connected(self, x, y):\n",
    "        return (self.find(x) == self.find(y))"
   ]
  },
  {
   "cell_type": "code",
   "execution_count": 31,
   "metadata": {},
   "outputs": [
    {
     "name": "stdout",
     "output_type": "stream",
     "text": [
      "[0, 1, 2, 3, 4, 5, 6, 7, 8, 9]\n",
      "[0, 1, 1, 3, 4, 1, 1, 1, 3, 3]\n",
      "True\n",
      "True\n",
      "False\n",
      "[0, 1, 2, 3, 4, 5, 6, 7, 8, 9]\n",
      "[0, 1, 1, 3, 3, 1, 1, 1, 3, 3]\n",
      "True\n",
      "[0, 1, 2, 3, 4, 5, 6, 7, 8, 9]\n",
      "[0, 1, 1, 1, 3, 1, 1, 1, 3, 3]\n"
     ]
    }
   ],
   "source": [
    "# Test Case\n",
    "uf = QuickRank(10)\n",
    "# 1-2-5-6-7 3-8-9 4\n",
    "uf.union(1, 2)\n",
    "uf.union(2, 5)\n",
    "uf.union(5, 6)\n",
    "uf.union(6, 7)\n",
    "uf.union(3, 8)\n",
    "uf.union(8, 9)\n",
    "print([x for x in range(10)])\n",
    "print(uf)\n",
    "print(uf.connected(1, 5))  # true\n",
    "print(uf.connected(5, 7))  # true\n",
    "print(uf.connected(4, 9))  # false\n",
    "# 1-2-5-6-7 3-8-9-4\n",
    "uf.union(9, 4)\n",
    "print([x for x in range(10)])\n",
    "print(uf)\n",
    "print(uf.connected(4, 9))  # true\n",
    "\n",
    "uf.union(1,3)\n",
    "print([x for x in range(10)])\n",
    "print(uf)"
   ]
  },
  {
   "cell_type": "markdown",
   "metadata": {},
   "source": [
    "# Optimising Quick Union => Path Compression Optimization - Disjoint Set\n",
    "### Time Complexity\n",
    " $$ UnionRankConstructor ==> O(N)$$\n",
    "$$ Find ==>\tO(logN)$$\n",
    "$$ Union ==> O(logN)$$\n",
    "$$ Connected ==> O(logN)$$"
   ]
  },
  {
   "cell_type": "code",
   "execution_count": 32,
   "metadata": {},
   "outputs": [],
   "source": [
    "class QuickUnion:\n",
    "    def __init__(self, size):\n",
    "        self.root = [0]*size\n",
    "        for i in range(size):\n",
    "            self.root[i] = i\n",
    "    \n",
    "    def __str__(self):\n",
    "        return str(self.root)\n",
    "    \n",
    "    def find(self, x):\n",
    "        if self.root[x] == x:\n",
    "            return x\n",
    "        self.root[x] = self.find(self.root(x)) \n",
    "        return self.root[x]\n",
    "    \n",
    "    def union(self, x, y):\n",
    "        root_x = self.find(x)\n",
    "        root_y = self.find(y)\n",
    "        if root_x != root_y:\n",
    "            self.root[y] = root_x\n",
    "    \n",
    "    def connected(self,x,y):\n",
    "        return (self.find(x) == self.find(y))"
   ]
  },
  {
   "cell_type": "code",
   "execution_count": 34,
   "metadata": {},
   "outputs": [
    {
     "name": "stdout",
     "output_type": "stream",
     "text": [
      "[0, 1, 2, 3, 4, 5, 6, 7, 8, 9]\n",
      "[0, 1, 1, 3, 4, 1, 1, 1, 3, 3]\n",
      "True\n",
      "True\n",
      "False\n",
      "[0, 1, 2, 3, 4, 5, 6, 7, 8, 9]\n",
      "[0, 1, 1, 3, 3, 1, 1, 1, 3, 3]\n",
      "True\n"
     ]
    }
   ],
   "source": [
    "# Test Case\n",
    "uf = UnionFind(10)\n",
    "# 1-2-5-6-7 3-8-9 4\n",
    "uf.union(1, 2)\n",
    "uf.union(2, 5)\n",
    "uf.union(5, 6)\n",
    "uf.union(6, 7)\n",
    "uf.union(3, 8)\n",
    "uf.union(8, 9)\n",
    "print([x for x in range(10)])\n",
    "print(uf)\n",
    "print(uf.connected(1, 5))  # true\n",
    "print(uf.connected(5, 7))  # true\n",
    "print(uf.connected(4, 9))  # false\n",
    "# 1-2-5-6-7 3-8-9-4\n",
    "uf.union(9, 4)\n",
    "print([x for x in range(10)])\n",
    "print(uf)\n",
    "print(uf.connected(4, 9))  # true"
   ]
  },
  {
   "cell_type": "code",
   "execution_count": null,
   "metadata": {},
   "outputs": [],
   "source": []
  }
 ],
 "metadata": {
  "interpreter": {
   "hash": "b3ba2566441a7c06988d0923437866b63cedc61552a5af99d1f4fb67d367b25f"
  },
  "kernelspec": {
   "display_name": "Python 3.7.6 64-bit ('base': conda)",
   "language": "python",
   "name": "python3"
  },
  "language_info": {
   "codemirror_mode": {
    "name": "ipython",
    "version": 3
   },
   "file_extension": ".py",
   "mimetype": "text/x-python",
   "name": "python",
   "nbconvert_exporter": "python",
   "pygments_lexer": "ipython3",
   "version": "3.7.6"
  },
  "orig_nbformat": 4
 },
 "nbformat": 4,
 "nbformat_minor": 2
}
