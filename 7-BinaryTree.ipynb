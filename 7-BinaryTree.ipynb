{
 "cells": [
  {
   "cell_type": "markdown",
   "metadata": {},
   "source": [
    "# Pre-Order Tarversal\n"
   ]
  },
  {
   "cell_type": "code",
   "execution_count": 4,
   "metadata": {},
   "outputs": [],
   "source": [
    "class Node:\n",
    "    def __init__(self, key=None):\n",
    "        self.left = None\n",
    "        self.right = None\n",
    "        self.val = key"
   ]
  },
  {
   "cell_type": "code",
   "execution_count": 15,
   "metadata": {},
   "outputs": [
    {
     "name": "stdout",
     "output_type": "stream",
     "text": [
      "Preorder traversal of binary tree is\n",
      "[1, 2, 4, 5, 3]\n"
     ]
    }
   ],
   "source": [
    "class Solution:\n",
    "    def preorderTraversal(self, root):\n",
    "        res = []\n",
    "        self.givePreOrder(root, res)\n",
    "        return res\n",
    "        \n",
    "    def givePreOrder(self, root, lis):\n",
    "        if root==None:\n",
    "            return\n",
    "        lis.append(root.val)\n",
    "        self.givePreOrder(root.left,lis)\n",
    "        self.givePreOrder(root.right,lis)\n",
    "\n",
    "root = Node(1)\n",
    "root.left = Node(2)\n",
    "root.right = Node(3)\n",
    "root.left.left = Node(4)\n",
    "root.left.right = Node(5)\n",
    "print(\"Preorder traversal of binary tree is\")\n",
    "s = Solution()\n",
    "print(s.preorderTraversal(root))"
   ]
  },
  {
   "cell_type": "markdown",
   "metadata": {},
   "source": [
    "## Level Order"
   ]
  },
  {
   "cell_type": "code",
   "execution_count": null,
   "metadata": {},
   "outputs": [],
   "source": [
    "class Solution2:\n",
    "    def levelorderTraversal(self, root):\n",
    "        q = []\n",
    "        res = []\n",
    "        temp = 0\n",
    "        q.append(root)\n",
    "        for item in root:\n",
    "            if temp == 0:\n",
    "                q.append(item)\n",
    "                temp = item\n",
    "            else:\n",
    "                q.pop(item)\n",
    "        return res\n",
    "\n",
    "root = Node(1)\n",
    "root.left = Node(2)\n",
    "root.right = Node(3)\n",
    "root.left.left = Node(4)\n",
    "root.left.right = Node(5)\n",
    "print(\"Preorder traversal of binary tree is\")\n",
    "s = Solution2()\n",
    "print(s.levelorderTraversal(root))"
   ]
  },
  {
   "cell_type": "code",
   "execution_count": 23,
   "metadata": {},
   "outputs": [
    {
     "name": "stdout",
     "output_type": "stream",
     "text": [
      "Level Order Traversal of binary tree is -\n",
      "1\n",
      "8\n",
      "9\n",
      "4\n",
      "5\n"
     ]
    }
   ],
   "source": [
    "class Node:\n",
    "\tdef __init__(self, key):\n",
    "\t\tself.data = key\n",
    "\t\tself.left = None\n",
    "\t\tself.right = None\n",
    "\n",
    "def printLevelOrder(root):\n",
    "    if root is None:\n",
    "        return\n",
    "\n",
    "    queue = []\n",
    "    queue.append(root)\n",
    "    while(queue):\n",
    "        print(queue[0].data)\n",
    "        node = queue.pop(0)\n",
    "        if node.left is not None:\n",
    "            queue.append(node.left)\n",
    "        if node.right is not None:\n",
    "            queue.append(node.right)\n",
    "\n",
    "root = Node(1)\n",
    "root.left = Node(8)\n",
    "root.right = Node(9)\n",
    "root.left.left = Node(4)\n",
    "root.left.right = Node(5)\n",
    "\n",
    "print(\"Level Order Traversal of binary tree is -\")\n",
    "printLevelOrder(root)\n",
    "# This code is contributed by Nikhil Kumar Singh(nickzuck_007)\n"
   ]
  },
  {
   "cell_type": "code",
   "execution_count": 30,
   "metadata": {},
   "outputs": [
    {
     "name": "stdout",
     "output_type": "stream",
     "text": [
      "Level Order Traversal of binary tree is -\n"
     ]
    },
    {
     "data": {
      "text/plain": [
       "3"
      ]
     },
     "execution_count": 30,
     "metadata": {},
     "output_type": "execute_result"
    }
   ],
   "source": [
    "class Node:\n",
    "    def __init__(self, key):\n",
    "        self.val = key\n",
    "        self.left = None\n",
    "        self.right = None\n",
    "\n",
    "def levelOrder(root):\n",
    "    if root is None:\n",
    "        return []\n",
    "    \n",
    "    queue = [root]\n",
    "    next_queue = []\n",
    "    level = []\n",
    "    res = []\n",
    "    while(queue):\n",
    "        for node in queue:\n",
    "            level.append(node.val)\n",
    "            if node.left is not None:\n",
    "                next_queue.append(node.left)\n",
    "            if node.right is not None:\n",
    "                next_queue.append(node.right)\n",
    "        res.append(level)\n",
    "        level = []\n",
    "        queue = next_queue\n",
    "        next_queue=[]\n",
    "    return len(res)\n",
    "\n",
    "root = Node(1)\n",
    "root.left = Node(8)\n",
    "root.right = Node(9)\n",
    "root.left.left = Node(4)\n",
    "root.left.right = Node(5)\n",
    "root.right.right = Node(6)\n",
    "\n",
    "print(\"Level Order Traversal of binary tree is -\")\n",
    "levelOrder(root)"
   ]
  },
  {
   "cell_type": "code",
   "execution_count": 29,
   "metadata": {},
   "outputs": [
    {
     "name": "stdout",
     "output_type": "stream",
     "text": [
      "5\n"
     ]
    }
   ],
   "source": [
    "lis = [1,2,3,4]\n",
    "lis.append(5)\n",
    "print(lis.pop())"
   ]
  },
  {
   "cell_type": "code",
   "execution_count": null,
   "metadata": {},
   "outputs": [],
   "source": []
  }
 ],
 "metadata": {
  "interpreter": {
   "hash": "b3ba2566441a7c06988d0923437866b63cedc61552a5af99d1f4fb67d367b25f"
  },
  "kernelspec": {
   "display_name": "Python 3.7.6 64-bit ('base': conda)",
   "language": "python",
   "name": "python3"
  },
  "language_info": {
   "codemirror_mode": {
    "name": "ipython",
    "version": 3
   },
   "file_extension": ".py",
   "mimetype": "text/x-python",
   "name": "python",
   "nbconvert_exporter": "python",
   "pygments_lexer": "ipython3",
   "version": "3.7.6"
  },
  "orig_nbformat": 4
 },
 "nbformat": 4,
 "nbformat_minor": 2
}
