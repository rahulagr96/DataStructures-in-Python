{
 "cells": [
  {
   "cell_type": "markdown",
   "metadata": {},
   "source": [
    "# Pre-Order Tarversal\n"
   ]
  },
  {
   "cell_type": "code",
   "execution_count": 8,
   "metadata": {},
   "outputs": [],
   "source": [
    "class Node:\n",
    "    def __init__(self, key=None):\n",
    "        self.left = None\n",
    "        self.right = None\n",
    "        self.val = key"
   ]
  },
  {
   "cell_type": "code",
   "execution_count": 15,
   "metadata": {},
   "outputs": [
    {
     "name": "stdout",
     "output_type": "stream",
     "text": [
      "Preorder traversal of binary tree is\n",
      "[1, 2, 4, 5, 3]\n"
     ]
    }
   ],
   "source": [
    "class Solution:\n",
    "    def preorderTraversal(self, root):\n",
    "        res = []\n",
    "        self.givePreOrder(root, res)\n",
    "        return res\n",
    "        \n",
    "    def givePreOrder(self, root, lis):\n",
    "        if root==None:\n",
    "            return\n",
    "        lis.append(root.val)\n",
    "        self.givePreOrder(root.left,lis)\n",
    "        self.givePreOrder(root.right,lis)\n",
    "\n",
    "root = Node(1)\n",
    "root.left = Node(2)\n",
    "root.right = Node(3)\n",
    "root.left.left = Node(4)\n",
    "root.left.right = Node(5)\n",
    "print(\"Preorder traversal of binary tree is\")\n",
    "s = Solution()\n",
    "print(s.preorderTraversal(root))"
   ]
  },
  {
   "cell_type": "code",
   "execution_count": 12,
   "metadata": {},
   "outputs": [
    {
     "name": "stdout",
     "output_type": "stream",
     "text": [
      "Preorder traversal of binary tree is\n",
      "4\n",
      "2\n",
      "5\n",
      "1\n",
      "3\n",
      "9\n"
     ]
    }
   ],
   "source": [
    "def inOrder(root):\n",
    "    if root is None:\n",
    "        return\n",
    "    inOrder(root.left)\n",
    "    print(root.val)\n",
    "    inOrder(root.right)\n",
    "\n",
    "root = Node(1)\n",
    "root.left = Node(2)\n",
    "root.right = Node(3)\n",
    "root.right.right = Node(9)\n",
    "root.left.left = Node(4)\n",
    "root.left.right = Node(5)\n",
    "print(\"Preorder traversal of binary tree is\")\n",
    "inOrder(root)"
   ]
  },
  {
   "cell_type": "markdown",
   "metadata": {},
   "source": [
    "## Level Order"
   ]
  },
  {
   "cell_type": "code",
   "execution_count": 4,
   "metadata": {},
   "outputs": [
    {
     "name": "stdout",
     "output_type": "stream",
     "text": [
      "Level Order Traversal of binary tree is -\n",
      "1\n",
      "8\n",
      "9\n",
      "4\n",
      "5\n"
     ]
    }
   ],
   "source": [
    "class Node:\n",
    "\tdef __init__(self, key):\n",
    "\t\tself.data = key\n",
    "\t\tself.left = None\n",
    "\t\tself.right = None\n",
    "\n",
    "def printLevelOrder(root):\n",
    "    if root is None:\n",
    "        return\n",
    "\n",
    "    queue = []\n",
    "    queue.append(root)\n",
    "    while(queue):\n",
    "        print(queue[0].data)\n",
    "        node = queue.pop(0)\n",
    "        if node.left is not None:\n",
    "            queue.append(node.left)\n",
    "        if node.right is not None:\n",
    "            queue.append(node.right)\n",
    "\n",
    "root = Node(1)\n",
    "root.left = Node(8)\n",
    "root.right = Node(9)\n",
    "root.left.left = Node(4)\n",
    "root.left.right = Node(5)\n",
    "\n",
    "print(\"Level Order Traversal of binary tree is -\")\n",
    "printLevelOrder(root)\n",
    "# This code is contributed by Nikhil Kumar Singh(nickzuck_007)\n"
   ]
  },
  {
   "cell_type": "markdown",
   "metadata": {},
   "source": [
    "## Depth of binary tree"
   ]
  },
  {
   "cell_type": "code",
   "execution_count": 5,
   "metadata": {},
   "outputs": [
    {
     "name": "stdout",
     "output_type": "stream",
     "text": [
      "Depth of binary tree is -\n"
     ]
    },
    {
     "data": {
      "text/plain": [
       "4"
      ]
     },
     "execution_count": 5,
     "metadata": {},
     "output_type": "execute_result"
    }
   ],
   "source": [
    "class Node:\n",
    "    def __init__(self, key):\n",
    "        self.val = key\n",
    "        self.left = None\n",
    "        self.right = None\n",
    "\n",
    "def levelOrder(root):\n",
    "    if root is None:\n",
    "        return []\n",
    "    \n",
    "    queue = [root]\n",
    "    next_queue = []\n",
    "    level = []\n",
    "    res = []\n",
    "    while(queue):\n",
    "        for node in queue:\n",
    "            level.append(node.val)\n",
    "            if node.left is not None:\n",
    "                next_queue.append(node.left)\n",
    "            if node.right is not None:\n",
    "                next_queue.append(node.right)\n",
    "        res.append(level)\n",
    "        level = []\n",
    "        queue = next_queue\n",
    "        next_queue=[]\n",
    "    return len(res)\n",
    "\n",
    "root = Node(1)\n",
    "root.left = Node(8)\n",
    "root.right = Node(9)\n",
    "root.left.left = Node(4)\n",
    "root.left.right = Node(5)\n",
    "root.right.right = Node(6)\n",
    "root.right.right.right = Node(7)\n",
    "\n",
    "print(\"Depth of binary tree is -\")\n",
    "levelOrder(root)"
   ]
  },
  {
   "cell_type": "markdown",
   "metadata": {},
   "source": [
    "Better approach"
   ]
  },
  {
   "cell_type": "code",
   "execution_count": 6,
   "metadata": {},
   "outputs": [
    {
     "name": "stdout",
     "output_type": "stream",
     "text": [
      "Depth of binary tree is -\n"
     ]
    },
    {
     "data": {
      "text/plain": [
       "4"
      ]
     },
     "execution_count": 6,
     "metadata": {},
     "output_type": "execute_result"
    }
   ],
   "source": [
    "class Node():\n",
    "    def __init__(self, val=None):\n",
    "        self.val = val\n",
    "        self.left = None\n",
    "        self.right = None\n",
    "\n",
    "def depthOfTree(root):\n",
    "    if(root == None):\n",
    "        return 0\n",
    "    left = depthOfTree(root.left)\n",
    "    right = depthOfTree(root.right)\n",
    "    return (max(left,right) + 1)\n",
    "\n",
    "\n",
    "root = Node(1)\n",
    "root.left = Node(8)\n",
    "root.right = Node(9)\n",
    "root.left.left = Node(4)\n",
    "root.left.right = Node(5)\n",
    "root.right.right = Node(6)\n",
    "root.right.right.right = Node(7)\n",
    "\n",
    "print(\"Depth of binary tree is -\")\n",
    "depthOfTree(root)"
   ]
  },
  {
   "cell_type": "markdown",
   "metadata": {},
   "source": [
    "## Inorder without recursion"
   ]
  },
  {
   "cell_type": "code",
   "execution_count": 22,
   "metadata": {},
   "outputs": [
    {
     "name": "stdout",
     "output_type": "stream",
     "text": [
      "Preorder traversal of binary tree is\n",
      "4\n",
      "2\n",
      "5\n",
      "1\n",
      "3\n",
      "9\n"
     ]
    }
   ],
   "source": [
    "class Node:\n",
    "    def __init__(self, key=None):\n",
    "        self.left = None\n",
    "        self.right = None\n",
    "        self.val = key\n",
    "    \n",
    "    def __str__(self):\n",
    "        return str(self.val)\n",
    "    \n",
    "class Solution:\n",
    "    # Left Root Right\n",
    "    def inorder(self,root):\n",
    "        curr = root\n",
    "        stack = []\n",
    "        while True:\n",
    "            if curr is not None:\n",
    "                stack.append(curr)\n",
    "                curr = curr.left\n",
    "            elif stack:\n",
    "                curr = stack.pop()\n",
    "                print(curr.val)\n",
    "                curr = curr.right\n",
    "            else:\n",
    "                break\n",
    "        \n",
    "\n",
    "root = Node(1)\n",
    "root.left = Node(2)\n",
    "root.right = Node(3)\n",
    "root.right.right = Node(9)\n",
    "root.left.left = Node(4)\n",
    "root.left.right = Node(5)\n",
    "print(\"Preorder traversal of binary tree is\")\n",
    "s = Solution()\n",
    "s.inorder(root)"
   ]
  },
  {
   "cell_type": "code",
   "execution_count": null,
   "metadata": {},
   "outputs": [],
   "source": []
  }
 ],
 "metadata": {
  "interpreter": {
   "hash": "b3ba2566441a7c06988d0923437866b63cedc61552a5af99d1f4fb67d367b25f"
  },
  "kernelspec": {
   "display_name": "Python 3.7.6 64-bit ('base': conda)",
   "language": "python",
   "name": "python3"
  },
  "language_info": {
   "codemirror_mode": {
    "name": "ipython",
    "version": 3
   },
   "file_extension": ".py",
   "mimetype": "text/x-python",
   "name": "python",
   "nbconvert_exporter": "python",
   "pygments_lexer": "ipython3",
   "version": "3.7.11"
  },
  "orig_nbformat": 4
 },
 "nbformat": 4,
 "nbformat_minor": 2
}
